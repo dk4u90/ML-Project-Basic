{
 "cells": [
  {
   "cell_type": "code",
   "execution_count": 1,
   "id": "c7c3f6b8",
   "metadata": {},
   "outputs": [],
   "source": [
    "%config Completer.use_jedi = False\n",
    "import pandas as pd\n",
    "import numpy as np"
   ]
  },
  {
   "cell_type": "code",
   "execution_count": 2,
   "id": "ec31f582",
   "metadata": {},
   "outputs": [],
   "source": [
    "df_mushroom=pd.read_csv(r'D:\\ML\\7 mushroom_classification\\mushrooms.csv')"
   ]
  },
  {
   "cell_type": "code",
   "execution_count": 3,
   "id": "a3bc5f8b",
   "metadata": {},
   "outputs": [
    {
     "data": {
      "text/html": [
       "<div>\n",
       "<style scoped>\n",
       "    .dataframe tbody tr th:only-of-type {\n",
       "        vertical-align: middle;\n",
       "    }\n",
       "\n",
       "    .dataframe tbody tr th {\n",
       "        vertical-align: top;\n",
       "    }\n",
       "\n",
       "    .dataframe thead th {\n",
       "        text-align: right;\n",
       "    }\n",
       "</style>\n",
       "<table border=\"1\" class=\"dataframe\">\n",
       "  <thead>\n",
       "    <tr style=\"text-align: right;\">\n",
       "      <th></th>\n",
       "      <th>class</th>\n",
       "      <th>cap-shape</th>\n",
       "      <th>cap-surface</th>\n",
       "      <th>cap-color</th>\n",
       "      <th>bruises</th>\n",
       "      <th>odor</th>\n",
       "      <th>gill-attachment</th>\n",
       "      <th>gill-spacing</th>\n",
       "      <th>gill-size</th>\n",
       "      <th>gill-color</th>\n",
       "      <th>...</th>\n",
       "      <th>stalk-surface-below-ring</th>\n",
       "      <th>stalk-color-above-ring</th>\n",
       "      <th>stalk-color-below-ring</th>\n",
       "      <th>veil-type</th>\n",
       "      <th>veil-color</th>\n",
       "      <th>ring-number</th>\n",
       "      <th>ring-type</th>\n",
       "      <th>spore-print-color</th>\n",
       "      <th>population</th>\n",
       "      <th>habitat</th>\n",
       "    </tr>\n",
       "  </thead>\n",
       "  <tbody>\n",
       "    <tr>\n",
       "      <th>0</th>\n",
       "      <td>p</td>\n",
       "      <td>x</td>\n",
       "      <td>s</td>\n",
       "      <td>n</td>\n",
       "      <td>t</td>\n",
       "      <td>p</td>\n",
       "      <td>f</td>\n",
       "      <td>c</td>\n",
       "      <td>n</td>\n",
       "      <td>k</td>\n",
       "      <td>...</td>\n",
       "      <td>s</td>\n",
       "      <td>w</td>\n",
       "      <td>w</td>\n",
       "      <td>p</td>\n",
       "      <td>w</td>\n",
       "      <td>o</td>\n",
       "      <td>p</td>\n",
       "      <td>k</td>\n",
       "      <td>s</td>\n",
       "      <td>u</td>\n",
       "    </tr>\n",
       "    <tr>\n",
       "      <th>1</th>\n",
       "      <td>e</td>\n",
       "      <td>x</td>\n",
       "      <td>s</td>\n",
       "      <td>y</td>\n",
       "      <td>t</td>\n",
       "      <td>a</td>\n",
       "      <td>f</td>\n",
       "      <td>c</td>\n",
       "      <td>b</td>\n",
       "      <td>k</td>\n",
       "      <td>...</td>\n",
       "      <td>s</td>\n",
       "      <td>w</td>\n",
       "      <td>w</td>\n",
       "      <td>p</td>\n",
       "      <td>w</td>\n",
       "      <td>o</td>\n",
       "      <td>p</td>\n",
       "      <td>n</td>\n",
       "      <td>n</td>\n",
       "      <td>g</td>\n",
       "    </tr>\n",
       "    <tr>\n",
       "      <th>2</th>\n",
       "      <td>e</td>\n",
       "      <td>b</td>\n",
       "      <td>s</td>\n",
       "      <td>w</td>\n",
       "      <td>t</td>\n",
       "      <td>l</td>\n",
       "      <td>f</td>\n",
       "      <td>c</td>\n",
       "      <td>b</td>\n",
       "      <td>n</td>\n",
       "      <td>...</td>\n",
       "      <td>s</td>\n",
       "      <td>w</td>\n",
       "      <td>w</td>\n",
       "      <td>p</td>\n",
       "      <td>w</td>\n",
       "      <td>o</td>\n",
       "      <td>p</td>\n",
       "      <td>n</td>\n",
       "      <td>n</td>\n",
       "      <td>m</td>\n",
       "    </tr>\n",
       "    <tr>\n",
       "      <th>3</th>\n",
       "      <td>p</td>\n",
       "      <td>x</td>\n",
       "      <td>y</td>\n",
       "      <td>w</td>\n",
       "      <td>t</td>\n",
       "      <td>p</td>\n",
       "      <td>f</td>\n",
       "      <td>c</td>\n",
       "      <td>n</td>\n",
       "      <td>n</td>\n",
       "      <td>...</td>\n",
       "      <td>s</td>\n",
       "      <td>w</td>\n",
       "      <td>w</td>\n",
       "      <td>p</td>\n",
       "      <td>w</td>\n",
       "      <td>o</td>\n",
       "      <td>p</td>\n",
       "      <td>k</td>\n",
       "      <td>s</td>\n",
       "      <td>u</td>\n",
       "    </tr>\n",
       "    <tr>\n",
       "      <th>4</th>\n",
       "      <td>e</td>\n",
       "      <td>x</td>\n",
       "      <td>s</td>\n",
       "      <td>g</td>\n",
       "      <td>f</td>\n",
       "      <td>n</td>\n",
       "      <td>f</td>\n",
       "      <td>w</td>\n",
       "      <td>b</td>\n",
       "      <td>k</td>\n",
       "      <td>...</td>\n",
       "      <td>s</td>\n",
       "      <td>w</td>\n",
       "      <td>w</td>\n",
       "      <td>p</td>\n",
       "      <td>w</td>\n",
       "      <td>o</td>\n",
       "      <td>e</td>\n",
       "      <td>n</td>\n",
       "      <td>a</td>\n",
       "      <td>g</td>\n",
       "    </tr>\n",
       "  </tbody>\n",
       "</table>\n",
       "<p>5 rows × 23 columns</p>\n",
       "</div>"
      ],
      "text/plain": [
       "  class cap-shape cap-surface cap-color bruises odor gill-attachment  \\\n",
       "0     p         x           s         n       t    p               f   \n",
       "1     e         x           s         y       t    a               f   \n",
       "2     e         b           s         w       t    l               f   \n",
       "3     p         x           y         w       t    p               f   \n",
       "4     e         x           s         g       f    n               f   \n",
       "\n",
       "  gill-spacing gill-size gill-color  ... stalk-surface-below-ring  \\\n",
       "0            c         n          k  ...                        s   \n",
       "1            c         b          k  ...                        s   \n",
       "2            c         b          n  ...                        s   \n",
       "3            c         n          n  ...                        s   \n",
       "4            w         b          k  ...                        s   \n",
       "\n",
       "  stalk-color-above-ring stalk-color-below-ring veil-type veil-color  \\\n",
       "0                      w                      w         p          w   \n",
       "1                      w                      w         p          w   \n",
       "2                      w                      w         p          w   \n",
       "3                      w                      w         p          w   \n",
       "4                      w                      w         p          w   \n",
       "\n",
       "  ring-number ring-type spore-print-color population habitat  \n",
       "0           o         p                 k          s       u  \n",
       "1           o         p                 n          n       g  \n",
       "2           o         p                 n          n       m  \n",
       "3           o         p                 k          s       u  \n",
       "4           o         e                 n          a       g  \n",
       "\n",
       "[5 rows x 23 columns]"
      ]
     },
     "execution_count": 3,
     "metadata": {},
     "output_type": "execute_result"
    }
   ],
   "source": [
    "df_mushroom.head()"
   ]
  },
  {
   "cell_type": "code",
   "execution_count": 4,
   "id": "c7560392",
   "metadata": {},
   "outputs": [],
   "source": [
    "df_mushroom=pd.read_csv(r'D:\\ML\\7 mushroom_classification\\mushrooms.csv',header=None)"
   ]
  },
  {
   "cell_type": "code",
   "execution_count": 5,
   "id": "cebc1ca7",
   "metadata": {},
   "outputs": [
    {
     "data": {
      "text/html": [
       "<div>\n",
       "<style scoped>\n",
       "    .dataframe tbody tr th:only-of-type {\n",
       "        vertical-align: middle;\n",
       "    }\n",
       "\n",
       "    .dataframe tbody tr th {\n",
       "        vertical-align: top;\n",
       "    }\n",
       "\n",
       "    .dataframe thead th {\n",
       "        text-align: right;\n",
       "    }\n",
       "</style>\n",
       "<table border=\"1\" class=\"dataframe\">\n",
       "  <thead>\n",
       "    <tr style=\"text-align: right;\">\n",
       "      <th></th>\n",
       "      <th>0</th>\n",
       "      <th>1</th>\n",
       "      <th>2</th>\n",
       "      <th>3</th>\n",
       "      <th>4</th>\n",
       "      <th>5</th>\n",
       "      <th>6</th>\n",
       "      <th>7</th>\n",
       "      <th>8</th>\n",
       "      <th>9</th>\n",
       "      <th>...</th>\n",
       "      <th>13</th>\n",
       "      <th>14</th>\n",
       "      <th>15</th>\n",
       "      <th>16</th>\n",
       "      <th>17</th>\n",
       "      <th>18</th>\n",
       "      <th>19</th>\n",
       "      <th>20</th>\n",
       "      <th>21</th>\n",
       "      <th>22</th>\n",
       "    </tr>\n",
       "  </thead>\n",
       "  <tbody>\n",
       "    <tr>\n",
       "      <th>0</th>\n",
       "      <td>class</td>\n",
       "      <td>cap-shape</td>\n",
       "      <td>cap-surface</td>\n",
       "      <td>cap-color</td>\n",
       "      <td>bruises</td>\n",
       "      <td>odor</td>\n",
       "      <td>gill-attachment</td>\n",
       "      <td>gill-spacing</td>\n",
       "      <td>gill-size</td>\n",
       "      <td>gill-color</td>\n",
       "      <td>...</td>\n",
       "      <td>stalk-surface-below-ring</td>\n",
       "      <td>stalk-color-above-ring</td>\n",
       "      <td>stalk-color-below-ring</td>\n",
       "      <td>veil-type</td>\n",
       "      <td>veil-color</td>\n",
       "      <td>ring-number</td>\n",
       "      <td>ring-type</td>\n",
       "      <td>spore-print-color</td>\n",
       "      <td>population</td>\n",
       "      <td>habitat</td>\n",
       "    </tr>\n",
       "    <tr>\n",
       "      <th>1</th>\n",
       "      <td>p</td>\n",
       "      <td>x</td>\n",
       "      <td>s</td>\n",
       "      <td>n</td>\n",
       "      <td>t</td>\n",
       "      <td>p</td>\n",
       "      <td>f</td>\n",
       "      <td>c</td>\n",
       "      <td>n</td>\n",
       "      <td>k</td>\n",
       "      <td>...</td>\n",
       "      <td>s</td>\n",
       "      <td>w</td>\n",
       "      <td>w</td>\n",
       "      <td>p</td>\n",
       "      <td>w</td>\n",
       "      <td>o</td>\n",
       "      <td>p</td>\n",
       "      <td>k</td>\n",
       "      <td>s</td>\n",
       "      <td>u</td>\n",
       "    </tr>\n",
       "    <tr>\n",
       "      <th>2</th>\n",
       "      <td>e</td>\n",
       "      <td>x</td>\n",
       "      <td>s</td>\n",
       "      <td>y</td>\n",
       "      <td>t</td>\n",
       "      <td>a</td>\n",
       "      <td>f</td>\n",
       "      <td>c</td>\n",
       "      <td>b</td>\n",
       "      <td>k</td>\n",
       "      <td>...</td>\n",
       "      <td>s</td>\n",
       "      <td>w</td>\n",
       "      <td>w</td>\n",
       "      <td>p</td>\n",
       "      <td>w</td>\n",
       "      <td>o</td>\n",
       "      <td>p</td>\n",
       "      <td>n</td>\n",
       "      <td>n</td>\n",
       "      <td>g</td>\n",
       "    </tr>\n",
       "    <tr>\n",
       "      <th>3</th>\n",
       "      <td>e</td>\n",
       "      <td>b</td>\n",
       "      <td>s</td>\n",
       "      <td>w</td>\n",
       "      <td>t</td>\n",
       "      <td>l</td>\n",
       "      <td>f</td>\n",
       "      <td>c</td>\n",
       "      <td>b</td>\n",
       "      <td>n</td>\n",
       "      <td>...</td>\n",
       "      <td>s</td>\n",
       "      <td>w</td>\n",
       "      <td>w</td>\n",
       "      <td>p</td>\n",
       "      <td>w</td>\n",
       "      <td>o</td>\n",
       "      <td>p</td>\n",
       "      <td>n</td>\n",
       "      <td>n</td>\n",
       "      <td>m</td>\n",
       "    </tr>\n",
       "    <tr>\n",
       "      <th>4</th>\n",
       "      <td>p</td>\n",
       "      <td>x</td>\n",
       "      <td>y</td>\n",
       "      <td>w</td>\n",
       "      <td>t</td>\n",
       "      <td>p</td>\n",
       "      <td>f</td>\n",
       "      <td>c</td>\n",
       "      <td>n</td>\n",
       "      <td>n</td>\n",
       "      <td>...</td>\n",
       "      <td>s</td>\n",
       "      <td>w</td>\n",
       "      <td>w</td>\n",
       "      <td>p</td>\n",
       "      <td>w</td>\n",
       "      <td>o</td>\n",
       "      <td>p</td>\n",
       "      <td>k</td>\n",
       "      <td>s</td>\n",
       "      <td>u</td>\n",
       "    </tr>\n",
       "  </tbody>\n",
       "</table>\n",
       "<p>5 rows × 23 columns</p>\n",
       "</div>"
      ],
      "text/plain": [
       "      0          1            2          3        4     5                6   \\\n",
       "0  class  cap-shape  cap-surface  cap-color  bruises  odor  gill-attachment   \n",
       "1      p          x            s          n        t     p                f   \n",
       "2      e          x            s          y        t     a                f   \n",
       "3      e          b            s          w        t     l                f   \n",
       "4      p          x            y          w        t     p                f   \n",
       "\n",
       "             7          8           9   ...                        13  \\\n",
       "0  gill-spacing  gill-size  gill-color  ...  stalk-surface-below-ring   \n",
       "1             c          n           k  ...                         s   \n",
       "2             c          b           k  ...                         s   \n",
       "3             c          b           n  ...                         s   \n",
       "4             c          n           n  ...                         s   \n",
       "\n",
       "                       14                      15         16          17  \\\n",
       "0  stalk-color-above-ring  stalk-color-below-ring  veil-type  veil-color   \n",
       "1                       w                       w          p           w   \n",
       "2                       w                       w          p           w   \n",
       "3                       w                       w          p           w   \n",
       "4                       w                       w          p           w   \n",
       "\n",
       "            18         19                 20          21       22  \n",
       "0  ring-number  ring-type  spore-print-color  population  habitat  \n",
       "1            o          p                  k           s        u  \n",
       "2            o          p                  n           n        g  \n",
       "3            o          p                  n           n        m  \n",
       "4            o          p                  k           s        u  \n",
       "\n",
       "[5 rows x 23 columns]"
      ]
     },
     "execution_count": 5,
     "metadata": {},
     "output_type": "execute_result"
    }
   ],
   "source": [
    "df_mushroom.head()"
   ]
  },
  {
   "cell_type": "code",
   "execution_count": 6,
   "id": "d60bd5e0",
   "metadata": {},
   "outputs": [
    {
     "data": {
      "text/plain": [
       "(8125, 23)"
      ]
     },
     "execution_count": 6,
     "metadata": {},
     "output_type": "execute_result"
    }
   ],
   "source": [
    "df_mushroom.shape"
   ]
  },
  {
   "cell_type": "code",
   "execution_count": 7,
   "id": "adc55a9e",
   "metadata": {},
   "outputs": [],
   "source": [
    "df_mushroom=df_mushroom.drop(index=0)"
   ]
  },
  {
   "cell_type": "code",
   "execution_count": 8,
   "id": "465261df",
   "metadata": {},
   "outputs": [
    {
     "data": {
      "text/html": [
       "<div>\n",
       "<style scoped>\n",
       "    .dataframe tbody tr th:only-of-type {\n",
       "        vertical-align: middle;\n",
       "    }\n",
       "\n",
       "    .dataframe tbody tr th {\n",
       "        vertical-align: top;\n",
       "    }\n",
       "\n",
       "    .dataframe thead th {\n",
       "        text-align: right;\n",
       "    }\n",
       "</style>\n",
       "<table border=\"1\" class=\"dataframe\">\n",
       "  <thead>\n",
       "    <tr style=\"text-align: right;\">\n",
       "      <th></th>\n",
       "      <th>0</th>\n",
       "      <th>1</th>\n",
       "      <th>2</th>\n",
       "      <th>3</th>\n",
       "      <th>4</th>\n",
       "      <th>5</th>\n",
       "      <th>6</th>\n",
       "      <th>7</th>\n",
       "      <th>8</th>\n",
       "      <th>9</th>\n",
       "      <th>...</th>\n",
       "      <th>13</th>\n",
       "      <th>14</th>\n",
       "      <th>15</th>\n",
       "      <th>16</th>\n",
       "      <th>17</th>\n",
       "      <th>18</th>\n",
       "      <th>19</th>\n",
       "      <th>20</th>\n",
       "      <th>21</th>\n",
       "      <th>22</th>\n",
       "    </tr>\n",
       "  </thead>\n",
       "  <tbody>\n",
       "    <tr>\n",
       "      <th>1</th>\n",
       "      <td>p</td>\n",
       "      <td>x</td>\n",
       "      <td>s</td>\n",
       "      <td>n</td>\n",
       "      <td>t</td>\n",
       "      <td>p</td>\n",
       "      <td>f</td>\n",
       "      <td>c</td>\n",
       "      <td>n</td>\n",
       "      <td>k</td>\n",
       "      <td>...</td>\n",
       "      <td>s</td>\n",
       "      <td>w</td>\n",
       "      <td>w</td>\n",
       "      <td>p</td>\n",
       "      <td>w</td>\n",
       "      <td>o</td>\n",
       "      <td>p</td>\n",
       "      <td>k</td>\n",
       "      <td>s</td>\n",
       "      <td>u</td>\n",
       "    </tr>\n",
       "    <tr>\n",
       "      <th>2</th>\n",
       "      <td>e</td>\n",
       "      <td>x</td>\n",
       "      <td>s</td>\n",
       "      <td>y</td>\n",
       "      <td>t</td>\n",
       "      <td>a</td>\n",
       "      <td>f</td>\n",
       "      <td>c</td>\n",
       "      <td>b</td>\n",
       "      <td>k</td>\n",
       "      <td>...</td>\n",
       "      <td>s</td>\n",
       "      <td>w</td>\n",
       "      <td>w</td>\n",
       "      <td>p</td>\n",
       "      <td>w</td>\n",
       "      <td>o</td>\n",
       "      <td>p</td>\n",
       "      <td>n</td>\n",
       "      <td>n</td>\n",
       "      <td>g</td>\n",
       "    </tr>\n",
       "    <tr>\n",
       "      <th>3</th>\n",
       "      <td>e</td>\n",
       "      <td>b</td>\n",
       "      <td>s</td>\n",
       "      <td>w</td>\n",
       "      <td>t</td>\n",
       "      <td>l</td>\n",
       "      <td>f</td>\n",
       "      <td>c</td>\n",
       "      <td>b</td>\n",
       "      <td>n</td>\n",
       "      <td>...</td>\n",
       "      <td>s</td>\n",
       "      <td>w</td>\n",
       "      <td>w</td>\n",
       "      <td>p</td>\n",
       "      <td>w</td>\n",
       "      <td>o</td>\n",
       "      <td>p</td>\n",
       "      <td>n</td>\n",
       "      <td>n</td>\n",
       "      <td>m</td>\n",
       "    </tr>\n",
       "  </tbody>\n",
       "</table>\n",
       "<p>3 rows × 23 columns</p>\n",
       "</div>"
      ],
      "text/plain": [
       "  0  1  2  3  4  5  6  7  8  9   ... 13 14 15 16 17 18 19 20 21 22\n",
       "1  p  x  s  n  t  p  f  c  n  k  ...  s  w  w  p  w  o  p  k  s  u\n",
       "2  e  x  s  y  t  a  f  c  b  k  ...  s  w  w  p  w  o  p  n  n  g\n",
       "3  e  b  s  w  t  l  f  c  b  n  ...  s  w  w  p  w  o  p  n  n  m\n",
       "\n",
       "[3 rows x 23 columns]"
      ]
     },
     "execution_count": 8,
     "metadata": {},
     "output_type": "execute_result"
    }
   ],
   "source": [
    "df_mushroom.head(3)"
   ]
  },
  {
   "cell_type": "code",
   "execution_count": 9,
   "id": "f4fba1f3",
   "metadata": {},
   "outputs": [],
   "source": [
    "df_mushroom.columns=[\"type\",\"cap-shape\",\"cap-surface\",\"cap-color\",\"bruises\",\"odor\",\"gill-attachment\",\"gill-spacing\",\"gill-size\",\"gill-color\",\"stalk-shape\",\"stalk-root\",\"stalk-surface-above-ring\",\"stalk-surface-below-ring\",\"stalk-color-above-ring\",\"stalk-color-below-ring\",\"veil-type\",\"veil-color\",\"ring-number\",\"ring-type\",\"spore-print-color\",\"population\",\"habitat\"]"
   ]
  },
  {
   "cell_type": "code",
   "execution_count": 10,
   "id": "af95500b",
   "metadata": {},
   "outputs": [
    {
     "data": {
      "text/html": [
       "<div>\n",
       "<style scoped>\n",
       "    .dataframe tbody tr th:only-of-type {\n",
       "        vertical-align: middle;\n",
       "    }\n",
       "\n",
       "    .dataframe tbody tr th {\n",
       "        vertical-align: top;\n",
       "    }\n",
       "\n",
       "    .dataframe thead th {\n",
       "        text-align: right;\n",
       "    }\n",
       "</style>\n",
       "<table border=\"1\" class=\"dataframe\">\n",
       "  <thead>\n",
       "    <tr style=\"text-align: right;\">\n",
       "      <th></th>\n",
       "      <th>type</th>\n",
       "      <th>cap-shape</th>\n",
       "      <th>cap-surface</th>\n",
       "      <th>cap-color</th>\n",
       "      <th>bruises</th>\n",
       "      <th>odor</th>\n",
       "      <th>gill-attachment</th>\n",
       "      <th>gill-spacing</th>\n",
       "      <th>gill-size</th>\n",
       "      <th>gill-color</th>\n",
       "      <th>...</th>\n",
       "      <th>stalk-surface-below-ring</th>\n",
       "      <th>stalk-color-above-ring</th>\n",
       "      <th>stalk-color-below-ring</th>\n",
       "      <th>veil-type</th>\n",
       "      <th>veil-color</th>\n",
       "      <th>ring-number</th>\n",
       "      <th>ring-type</th>\n",
       "      <th>spore-print-color</th>\n",
       "      <th>population</th>\n",
       "      <th>habitat</th>\n",
       "    </tr>\n",
       "  </thead>\n",
       "  <tbody>\n",
       "    <tr>\n",
       "      <th>1</th>\n",
       "      <td>p</td>\n",
       "      <td>x</td>\n",
       "      <td>s</td>\n",
       "      <td>n</td>\n",
       "      <td>t</td>\n",
       "      <td>p</td>\n",
       "      <td>f</td>\n",
       "      <td>c</td>\n",
       "      <td>n</td>\n",
       "      <td>k</td>\n",
       "      <td>...</td>\n",
       "      <td>s</td>\n",
       "      <td>w</td>\n",
       "      <td>w</td>\n",
       "      <td>p</td>\n",
       "      <td>w</td>\n",
       "      <td>o</td>\n",
       "      <td>p</td>\n",
       "      <td>k</td>\n",
       "      <td>s</td>\n",
       "      <td>u</td>\n",
       "    </tr>\n",
       "    <tr>\n",
       "      <th>2</th>\n",
       "      <td>e</td>\n",
       "      <td>x</td>\n",
       "      <td>s</td>\n",
       "      <td>y</td>\n",
       "      <td>t</td>\n",
       "      <td>a</td>\n",
       "      <td>f</td>\n",
       "      <td>c</td>\n",
       "      <td>b</td>\n",
       "      <td>k</td>\n",
       "      <td>...</td>\n",
       "      <td>s</td>\n",
       "      <td>w</td>\n",
       "      <td>w</td>\n",
       "      <td>p</td>\n",
       "      <td>w</td>\n",
       "      <td>o</td>\n",
       "      <td>p</td>\n",
       "      <td>n</td>\n",
       "      <td>n</td>\n",
       "      <td>g</td>\n",
       "    </tr>\n",
       "  </tbody>\n",
       "</table>\n",
       "<p>2 rows × 23 columns</p>\n",
       "</div>"
      ],
      "text/plain": [
       "  type cap-shape cap-surface cap-color bruises odor gill-attachment  \\\n",
       "1    p         x           s         n       t    p               f   \n",
       "2    e         x           s         y       t    a               f   \n",
       "\n",
       "  gill-spacing gill-size gill-color  ... stalk-surface-below-ring  \\\n",
       "1            c         n          k  ...                        s   \n",
       "2            c         b          k  ...                        s   \n",
       "\n",
       "  stalk-color-above-ring stalk-color-below-ring veil-type veil-color  \\\n",
       "1                      w                      w         p          w   \n",
       "2                      w                      w         p          w   \n",
       "\n",
       "  ring-number ring-type spore-print-color population habitat  \n",
       "1           o         p                 k          s       u  \n",
       "2           o         p                 n          n       g  \n",
       "\n",
       "[2 rows x 23 columns]"
      ]
     },
     "execution_count": 10,
     "metadata": {},
     "output_type": "execute_result"
    }
   ],
   "source": [
    "df_mushroom.head(2)"
   ]
  },
  {
   "cell_type": "code",
   "execution_count": 11,
   "id": "d398036a",
   "metadata": {},
   "outputs": [
    {
     "data": {
      "text/plain": [
       "type                        0\n",
       "cap-shape                   0\n",
       "cap-surface                 0\n",
       "cap-color                   0\n",
       "bruises                     0\n",
       "odor                        0\n",
       "gill-attachment             0\n",
       "gill-spacing                0\n",
       "gill-size                   0\n",
       "gill-color                  0\n",
       "stalk-shape                 0\n",
       "stalk-root                  0\n",
       "stalk-surface-above-ring    0\n",
       "stalk-surface-below-ring    0\n",
       "stalk-color-above-ring      0\n",
       "stalk-color-below-ring      0\n",
       "veil-type                   0\n",
       "veil-color                  0\n",
       "ring-number                 0\n",
       "ring-type                   0\n",
       "spore-print-color           0\n",
       "population                  0\n",
       "habitat                     0\n",
       "dtype: int64"
      ]
     },
     "execution_count": 11,
     "metadata": {},
     "output_type": "execute_result"
    }
   ],
   "source": [
    "df_mushroom.isnull().sum()"
   ]
  },
  {
   "cell_type": "markdown",
   "id": "4593ddd1",
   "metadata": {},
   "source": [
    "### Lets chcek the count of each type of mushroom graphically"
   ]
  },
  {
   "cell_type": "code",
   "execution_count": 12,
   "id": "124fa781",
   "metadata": {},
   "outputs": [],
   "source": [
    "import seaborn as sns"
   ]
  },
  {
   "cell_type": "code",
   "execution_count": 13,
   "id": "40ca71c9",
   "metadata": {},
   "outputs": [
    {
     "data": {
      "text/plain": [
       "<AxesSubplot:xlabel='type', ylabel='count'>"
      ]
     },
     "execution_count": 13,
     "metadata": {},
     "output_type": "execute_result"
    },
    {
     "data": {
      "image/png": "[encoded data removed]",
      "text/plain": [
       "<Figure size 432x288 with 1 Axes>"
      ]
     },
     "metadata": {
      "needs_background": "light"
     },
     "output_type": "display_data"
    }
   ],
   "source": [
    "sns.countplot(x='type',data=df_mushroom)"
   ]
  },
  {
   "cell_type": "code",
   "execution_count": 14,
   "id": "f5dceac5",
   "metadata": {},
   "outputs": [
    {
     "data": {
      "text/plain": [
       "<AxesSubplot:xlabel='cap-shape', ylabel='count'>"
      ]
     },
     "execution_count": 14,
     "metadata": {},
     "output_type": "execute_result"
    },
    {
     "data": {
      "image/png": "[encoded data removed]",
      "text/plain": [
       "<Figure size 432x288 with 1 Axes>"
      ]
     },
     "metadata": {
      "needs_background": "light"
     },
     "output_type": "display_data"
    }
   ],
   "source": [
    "sns.countplot(x='cap-shape',data=df_mushroom)"
   ]
  },
  {
   "cell_type": "code",
   "execution_count": 15,
   "id": "da7a32fa",
   "metadata": {},
   "outputs": [
    {
     "data": {
      "text/plain": [
       "<AxesSubplot:xlabel='cap-shape', ylabel='count'>"
      ]
     },
     "execution_count": 15,
     "metadata": {},
     "output_type": "execute_result"
    },
    {
     "data": {
      "image/png": "[encoded data removed]",
      "text/plain": [
       "<Figure size 432x288 with 1 Axes>"
      ]
     },
     "metadata": {
      "needs_background": "light"
     },
     "output_type": "display_data"
    }
   ],
   "source": [
    "sns.countplot(x='cap-shape',hue='type',data=df_mushroom)"
   ]
  },
  {
   "cell_type": "code",
   "execution_count": 16,
   "id": "10200df5",
   "metadata": {},
   "outputs": [
    {
     "data": {
      "text/plain": [
       "<AxesSubplot:xlabel='cap-shape', ylabel='count'>"
      ]
     },
     "execution_count": 16,
     "metadata": {},
     "output_type": "execute_result"
    },
    {
     "data": {
      "image/png": "[encoded data removed]",
      "text/plain": [
       "<Figure size 432x288 with 1 Axes>"
      ]
     },
     "metadata": {
      "needs_background": "light"
     },
     "output_type": "display_data"
    }
   ],
   "source": [
    "sns.countplot(x='cap-shape',hue='cap-surface',data=df_mushroom)"
   ]
  },
  {
   "cell_type": "code",
   "execution_count": 17,
   "id": "72efe453",
   "metadata": {},
   "outputs": [
    {
     "name": "stdout",
     "output_type": "stream",
     "text": [
      "(8124, 22)\n",
      "(8124, 1)\n"
     ]
    }
   ],
   "source": [
    "df_x=df_mushroom.drop(['type'],axis=1)\n",
    "y=df_mushroom[['type']]\n",
    "print(df_x.shape)\n",
    "print(y.shape)"
   ]
  },
  {
   "cell_type": "code",
   "execution_count": 18,
   "id": "34fe8a59",
   "metadata": {},
   "outputs": [
    {
     "data": {
      "text/plain": [
       "(8124, 22)"
      ]
     },
     "execution_count": 18,
     "metadata": {},
     "output_type": "execute_result"
    }
   ],
   "source": [
    "df_x.shape"
   ]
  },
  {
   "cell_type": "code",
   "execution_count": 19,
   "id": "9a680e24",
   "metadata": {},
   "outputs": [
    {
     "data": {
      "text/html": [
       "<div>\n",
       "<style scoped>\n",
       "    .dataframe tbody tr th:only-of-type {\n",
       "        vertical-align: middle;\n",
       "    }\n",
       "\n",
       "    .dataframe tbody tr th {\n",
       "        vertical-align: top;\n",
       "    }\n",
       "\n",
       "    .dataframe thead th {\n",
       "        text-align: right;\n",
       "    }\n",
       "</style>\n",
       "<table border=\"1\" class=\"dataframe\">\n",
       "  <thead>\n",
       "    <tr style=\"text-align: right;\">\n",
       "      <th></th>\n",
       "      <th>cap-shape_c</th>\n",
       "      <th>cap-shape_f</th>\n",
       "      <th>cap-shape_k</th>\n",
       "      <th>cap-shape_s</th>\n",
       "      <th>cap-shape_x</th>\n",
       "      <th>cap-surface_g</th>\n",
       "      <th>cap-surface_s</th>\n",
       "      <th>cap-surface_y</th>\n",
       "      <th>cap-color_c</th>\n",
       "      <th>cap-color_e</th>\n",
       "      <th>...</th>\n",
       "      <th>population_n</th>\n",
       "      <th>population_s</th>\n",
       "      <th>population_v</th>\n",
       "      <th>population_y</th>\n",
       "      <th>habitat_g</th>\n",
       "      <th>habitat_l</th>\n",
       "      <th>habitat_m</th>\n",
       "      <th>habitat_p</th>\n",
       "      <th>habitat_u</th>\n",
       "      <th>habitat_w</th>\n",
       "    </tr>\n",
       "  </thead>\n",
       "  <tbody>\n",
       "    <tr>\n",
       "      <th>1</th>\n",
       "      <td>0</td>\n",
       "      <td>0</td>\n",
       "      <td>0</td>\n",
       "      <td>0</td>\n",
       "      <td>1</td>\n",
       "      <td>0</td>\n",
       "      <td>1</td>\n",
       "      <td>0</td>\n",
       "      <td>0</td>\n",
       "      <td>0</td>\n",
       "      <td>...</td>\n",
       "      <td>0</td>\n",
       "      <td>1</td>\n",
       "      <td>0</td>\n",
       "      <td>0</td>\n",
       "      <td>0</td>\n",
       "      <td>0</td>\n",
       "      <td>0</td>\n",
       "      <td>0</td>\n",
       "      <td>1</td>\n",
       "      <td>0</td>\n",
       "    </tr>\n",
       "    <tr>\n",
       "      <th>2</th>\n",
       "      <td>0</td>\n",
       "      <td>0</td>\n",
       "      <td>0</td>\n",
       "      <td>0</td>\n",
       "      <td>1</td>\n",
       "      <td>0</td>\n",
       "      <td>1</td>\n",
       "      <td>0</td>\n",
       "      <td>0</td>\n",
       "      <td>0</td>\n",
       "      <td>...</td>\n",
       "      <td>1</td>\n",
       "      <td>0</td>\n",
       "      <td>0</td>\n",
       "      <td>0</td>\n",
       "      <td>1</td>\n",
       "      <td>0</td>\n",
       "      <td>0</td>\n",
       "      <td>0</td>\n",
       "      <td>0</td>\n",
       "      <td>0</td>\n",
       "    </tr>\n",
       "  </tbody>\n",
       "</table>\n",
       "<p>2 rows × 95 columns</p>\n",
       "</div>"
      ],
      "text/plain": [
       "   cap-shape_c  cap-shape_f  cap-shape_k  cap-shape_s  cap-shape_x  \\\n",
       "1            0            0            0            0            1   \n",
       "2            0            0            0            0            1   \n",
       "\n",
       "   cap-surface_g  cap-surface_s  cap-surface_y  cap-color_c  cap-color_e  ...  \\\n",
       "1              0              1              0            0            0  ...   \n",
       "2              0              1              0            0            0  ...   \n",
       "\n",
       "   population_n  population_s  population_v  population_y  habitat_g  \\\n",
       "1             0             1             0             0          0   \n",
       "2             1             0             0             0          1   \n",
       "\n",
       "   habitat_l  habitat_m  habitat_p  habitat_u  habitat_w  \n",
       "1          0          0          0          1          0  \n",
       "2          0          0          0          0          0  \n",
       "\n",
       "[2 rows x 95 columns]"
      ]
     },
     "execution_count": 19,
     "metadata": {},
     "output_type": "execute_result"
    }
   ],
   "source": [
    "df_x=pd.get_dummies(df_x,drop_first=True)\n",
    "df_x.head(2)"
   ]
  },
  {
   "cell_type": "markdown",
   "id": "b07d703f",
   "metadata": {},
   "source": [
    "### Lets bring input dataset features to same scale"
   ]
  },
  {
   "cell_type": "code",
   "execution_count": 20,
   "id": "7ebb286e",
   "metadata": {},
   "outputs": [
    {
     "data": {
      "text/html": [
       "<div>\n",
       "<style scoped>\n",
       "    .dataframe tbody tr th:only-of-type {\n",
       "        vertical-align: middle;\n",
       "    }\n",
       "\n",
       "    .dataframe tbody tr th {\n",
       "        vertical-align: top;\n",
       "    }\n",
       "\n",
       "    .dataframe thead th {\n",
       "        text-align: right;\n",
       "    }\n",
       "</style>\n",
       "<table border=\"1\" class=\"dataframe\">\n",
       "  <thead>\n",
       "    <tr style=\"text-align: right;\">\n",
       "      <th></th>\n",
       "      <th>0</th>\n",
       "      <th>1</th>\n",
       "      <th>2</th>\n",
       "      <th>3</th>\n",
       "      <th>4</th>\n",
       "      <th>5</th>\n",
       "      <th>6</th>\n",
       "      <th>7</th>\n",
       "      <th>8</th>\n",
       "      <th>9</th>\n",
       "      <th>...</th>\n",
       "      <th>85</th>\n",
       "      <th>86</th>\n",
       "      <th>87</th>\n",
       "      <th>88</th>\n",
       "      <th>89</th>\n",
       "      <th>90</th>\n",
       "      <th>91</th>\n",
       "      <th>92</th>\n",
       "      <th>93</th>\n",
       "      <th>94</th>\n",
       "    </tr>\n",
       "  </thead>\n",
       "  <tbody>\n",
       "    <tr>\n",
       "      <th>0</th>\n",
       "      <td>-0.022195</td>\n",
       "      <td>-0.79621</td>\n",
       "      <td>-0.336878</td>\n",
       "      <td>-0.062885</td>\n",
       "      <td>1.105487</td>\n",
       "      <td>-0.022195</td>\n",
       "      <td>1.475942</td>\n",
       "      <td>-0.815325</td>\n",
       "      <td>-0.073794</td>\n",
       "      <td>-0.475867</td>\n",
       "      <td>...</td>\n",
       "      <td>-0.227567</td>\n",
       "      <td>2.347257</td>\n",
       "      <td>-0.994599</td>\n",
       "      <td>-0.51672</td>\n",
       "      <td>-0.599531</td>\n",
       "      <td>-0.337783</td>\n",
       "      <td>-0.193088</td>\n",
       "      <td>-0.404842</td>\n",
       "      <td>4.590870</td>\n",
       "      <td>-0.155582</td>\n",
       "    </tr>\n",
       "    <tr>\n",
       "      <th>1</th>\n",
       "      <td>-0.022195</td>\n",
       "      <td>-0.79621</td>\n",
       "      <td>-0.336878</td>\n",
       "      <td>-0.062885</td>\n",
       "      <td>1.105487</td>\n",
       "      <td>-0.022195</td>\n",
       "      <td>1.475942</td>\n",
       "      <td>-0.815325</td>\n",
       "      <td>-0.073794</td>\n",
       "      <td>-0.475867</td>\n",
       "      <td>...</td>\n",
       "      <td>4.394315</td>\n",
       "      <td>-0.426029</td>\n",
       "      <td>-0.994599</td>\n",
       "      <td>-0.51672</td>\n",
       "      <td>1.667970</td>\n",
       "      <td>-0.337783</td>\n",
       "      <td>-0.193088</td>\n",
       "      <td>-0.404842</td>\n",
       "      <td>-0.217824</td>\n",
       "      <td>-0.155582</td>\n",
       "    </tr>\n",
       "  </tbody>\n",
       "</table>\n",
       "<p>2 rows × 95 columns</p>\n",
       "</div>"
      ],
      "text/plain": [
       "         0        1         2         3         4         5         6   \\\n",
       "0 -0.022195 -0.79621 -0.336878 -0.062885  1.105487 -0.022195  1.475942   \n",
       "1 -0.022195 -0.79621 -0.336878 -0.062885  1.105487 -0.022195  1.475942   \n",
       "\n",
       "         7         8         9   ...        85        86        87       88  \\\n",
       "0 -0.815325 -0.073794 -0.475867  ... -0.227567  2.347257 -0.994599 -0.51672   \n",
       "1 -0.815325 -0.073794 -0.475867  ...  4.394315 -0.426029 -0.994599 -0.51672   \n",
       "\n",
       "         89        90        91        92        93        94  \n",
       "0 -0.599531 -0.337783 -0.193088 -0.404842  4.590870 -0.155582  \n",
       "1  1.667970 -0.337783 -0.193088 -0.404842 -0.217824 -0.155582  \n",
       "\n",
       "[2 rows x 95 columns]"
      ]
     },
     "execution_count": 20,
     "metadata": {},
     "output_type": "execute_result"
    }
   ],
   "source": [
    "from sklearn.preprocessing import StandardScaler\n",
    "ss=StandardScaler()\n",
    "ss.fit(df_x)\n",
    "x=ss.fit_transform(df_x)\n",
    "x=pd.DataFrame(x)\n",
    "x.head(2)"
   ]
  },
  {
   "cell_type": "markdown",
   "id": "54fe8c22",
   "metadata": {},
   "source": [
    "### Lets bring input dataset features to same scale"
   ]
  },
  {
   "cell_type": "code",
   "execution_count": 21,
   "id": "622a37ac",
   "metadata": {},
   "outputs": [
    {
     "name": "stderr",
     "output_type": "stream",
     "text": [
      "D:\\anaconda\\envs\\ml\\lib\\site-packages\\sklearn\\utils\\validation.py:63: DataConversionWarning: A column-vector y was passed when a 1d array was expected. Please change the shape of y to (n_samples, ), for example using ravel().\n",
      "  return f(*args, **kwargs)\n"
     ]
    }
   ],
   "source": [
    "from sklearn.preprocessing import LabelEncoder\n",
    "le=LabelEncoder()\n",
    "le.fit(y)\n",
    "y=le.fit_transform(y)"
   ]
  },
  {
   "cell_type": "code",
   "execution_count": 22,
   "id": "f2e05d64",
   "metadata": {},
   "outputs": [
    {
     "data": {
      "text/plain": [
       "array([1, 0, 0, ..., 0, 1, 0])"
      ]
     },
     "execution_count": 22,
     "metadata": {},
     "output_type": "execute_result"
    }
   ],
   "source": [
    "y"
   ]
  },
  {
   "cell_type": "markdown",
   "id": "67ef8cc1",
   "metadata": {},
   "source": [
    "### Important informatic columns : Dimensionality reduction  from 92 to 55"
   ]
  },
  {
   "cell_type": "code",
   "execution_count": 23,
   "id": "0158c268",
   "metadata": {},
   "outputs": [
    {
     "data": {
      "text/html": [
       "<div>\n",
       "<style scoped>\n",
       "    .dataframe tbody tr th:only-of-type {\n",
       "        vertical-align: middle;\n",
       "    }\n",
       "\n",
       "    .dataframe tbody tr th {\n",
       "        vertical-align: top;\n",
       "    }\n",
       "\n",
       "    .dataframe thead th {\n",
       "        text-align: right;\n",
       "    }\n",
       "</style>\n",
       "<table border=\"1\" class=\"dataframe\">\n",
       "  <thead>\n",
       "    <tr style=\"text-align: right;\">\n",
       "      <th></th>\n",
       "      <th>0</th>\n",
       "      <th>1</th>\n",
       "      <th>2</th>\n",
       "      <th>3</th>\n",
       "      <th>4</th>\n",
       "      <th>5</th>\n",
       "      <th>6</th>\n",
       "      <th>7</th>\n",
       "      <th>8</th>\n",
       "      <th>9</th>\n",
       "      <th>...</th>\n",
       "      <th>45</th>\n",
       "      <th>46</th>\n",
       "      <th>47</th>\n",
       "      <th>48</th>\n",
       "      <th>49</th>\n",
       "      <th>50</th>\n",
       "      <th>51</th>\n",
       "      <th>52</th>\n",
       "      <th>53</th>\n",
       "      <th>54</th>\n",
       "    </tr>\n",
       "  </thead>\n",
       "  <tbody>\n",
       "    <tr>\n",
       "      <th>0</th>\n",
       "      <td>-3.680147</td>\n",
       "      <td>-1.484409</td>\n",
       "      <td>-0.636762</td>\n",
       "      <td>0.248645</td>\n",
       "      <td>-3.230018</td>\n",
       "      <td>1.053064</td>\n",
       "      <td>-0.580417</td>\n",
       "      <td>-0.187708</td>\n",
       "      <td>-2.996595</td>\n",
       "      <td>5.331251</td>\n",
       "      <td>...</td>\n",
       "      <td>-0.293498</td>\n",
       "      <td>0.232389</td>\n",
       "      <td>1.018749</td>\n",
       "      <td>-0.318467</td>\n",
       "      <td>-0.104539</td>\n",
       "      <td>-0.067732</td>\n",
       "      <td>0.112727</td>\n",
       "      <td>0.727238</td>\n",
       "      <td>0.127721</td>\n",
       "      <td>-0.518069</td>\n",
       "    </tr>\n",
       "    <tr>\n",
       "      <th>1</th>\n",
       "      <td>-2.864404</td>\n",
       "      <td>-1.767377</td>\n",
       "      <td>1.294714</td>\n",
       "      <td>1.785572</td>\n",
       "      <td>-2.188662</td>\n",
       "      <td>1.001328</td>\n",
       "      <td>2.503934</td>\n",
       "      <td>-2.144348</td>\n",
       "      <td>1.173025</td>\n",
       "      <td>-0.367689</td>\n",
       "      <td>...</td>\n",
       "      <td>-0.722770</td>\n",
       "      <td>-1.840357</td>\n",
       "      <td>0.662563</td>\n",
       "      <td>0.565062</td>\n",
       "      <td>-0.527104</td>\n",
       "      <td>-0.120009</td>\n",
       "      <td>0.079205</td>\n",
       "      <td>-0.082630</td>\n",
       "      <td>1.164686</td>\n",
       "      <td>1.108107</td>\n",
       "    </tr>\n",
       "    <tr>\n",
       "      <th>2</th>\n",
       "      <td>-4.093188</td>\n",
       "      <td>-1.873127</td>\n",
       "      <td>1.274433</td>\n",
       "      <td>1.837971</td>\n",
       "      <td>-1.928019</td>\n",
       "      <td>1.560152</td>\n",
       "      <td>4.710103</td>\n",
       "      <td>-4.025752</td>\n",
       "      <td>2.069381</td>\n",
       "      <td>-0.613787</td>\n",
       "      <td>...</td>\n",
       "      <td>0.770121</td>\n",
       "      <td>1.534809</td>\n",
       "      <td>-0.844769</td>\n",
       "      <td>-0.548206</td>\n",
       "      <td>0.415805</td>\n",
       "      <td>-0.133117</td>\n",
       "      <td>-0.018598</td>\n",
       "      <td>0.072643</td>\n",
       "      <td>-0.499146</td>\n",
       "      <td>-0.443370</td>\n",
       "    </tr>\n",
       "    <tr>\n",
       "      <th>3</th>\n",
       "      <td>-3.547954</td>\n",
       "      <td>-2.096685</td>\n",
       "      <td>-0.136878</td>\n",
       "      <td>0.212696</td>\n",
       "      <td>-2.398307</td>\n",
       "      <td>1.227991</td>\n",
       "      <td>0.002921</td>\n",
       "      <td>-0.393705</td>\n",
       "      <td>-2.752344</td>\n",
       "      <td>5.091459</td>\n",
       "      <td>...</td>\n",
       "      <td>0.325717</td>\n",
       "      <td>0.726405</td>\n",
       "      <td>-0.237105</td>\n",
       "      <td>-0.429486</td>\n",
       "      <td>-0.519273</td>\n",
       "      <td>-0.211661</td>\n",
       "      <td>0.165038</td>\n",
       "      <td>0.956593</td>\n",
       "      <td>0.254841</td>\n",
       "      <td>-0.226865</td>\n",
       "    </tr>\n",
       "    <tr>\n",
       "      <th>4</th>\n",
       "      <td>-2.638086</td>\n",
       "      <td>-1.462163</td>\n",
       "      <td>-0.075675</td>\n",
       "      <td>0.637973</td>\n",
       "      <td>-2.899138</td>\n",
       "      <td>-0.106028</td>\n",
       "      <td>-2.735830</td>\n",
       "      <td>1.649691</td>\n",
       "      <td>0.262638</td>\n",
       "      <td>-0.678329</td>\n",
       "      <td>...</td>\n",
       "      <td>-0.184892</td>\n",
       "      <td>-0.219163</td>\n",
       "      <td>0.499225</td>\n",
       "      <td>0.016602</td>\n",
       "      <td>0.072348</td>\n",
       "      <td>-0.095170</td>\n",
       "      <td>-0.097843</td>\n",
       "      <td>-0.305188</td>\n",
       "      <td>0.440379</td>\n",
       "      <td>-0.020136</td>\n",
       "    </tr>\n",
       "    <tr>\n",
       "      <th>...</th>\n",
       "      <td>...</td>\n",
       "      <td>...</td>\n",
       "      <td>...</td>\n",
       "      <td>...</td>\n",
       "      <td>...</td>\n",
       "      <td>...</td>\n",
       "      <td>...</td>\n",
       "      <td>...</td>\n",
       "      <td>...</td>\n",
       "      <td>...</td>\n",
       "      <td>...</td>\n",
       "      <td>...</td>\n",
       "      <td>...</td>\n",
       "      <td>...</td>\n",
       "      <td>...</td>\n",
       "      <td>...</td>\n",
       "      <td>...</td>\n",
       "      <td>...</td>\n",
       "      <td>...</td>\n",
       "      <td>...</td>\n",
       "      <td>...</td>\n",
       "    </tr>\n",
       "    <tr>\n",
       "      <th>8119</th>\n",
       "      <td>-3.982507</td>\n",
       "      <td>14.834243</td>\n",
       "      <td>6.651835</td>\n",
       "      <td>-1.961792</td>\n",
       "      <td>-2.534746</td>\n",
       "      <td>-0.766692</td>\n",
       "      <td>-0.129951</td>\n",
       "      <td>-0.427409</td>\n",
       "      <td>-0.004098</td>\n",
       "      <td>-0.087961</td>\n",
       "      <td>...</td>\n",
       "      <td>0.132987</td>\n",
       "      <td>0.359419</td>\n",
       "      <td>0.121611</td>\n",
       "      <td>-0.360874</td>\n",
       "      <td>-0.755206</td>\n",
       "      <td>6.280072</td>\n",
       "      <td>-0.152940</td>\n",
       "      <td>0.787943</td>\n",
       "      <td>0.432931</td>\n",
       "      <td>-0.501936</td>\n",
       "    </tr>\n",
       "    <tr>\n",
       "      <th>8120</th>\n",
       "      <td>-3.051578</td>\n",
       "      <td>11.318368</td>\n",
       "      <td>5.324940</td>\n",
       "      <td>-2.743588</td>\n",
       "      <td>-2.522954</td>\n",
       "      <td>0.362966</td>\n",
       "      <td>-0.050271</td>\n",
       "      <td>-0.379380</td>\n",
       "      <td>0.779854</td>\n",
       "      <td>0.445192</td>\n",
       "      <td>...</td>\n",
       "      <td>-0.402034</td>\n",
       "      <td>0.360720</td>\n",
       "      <td>0.678856</td>\n",
       "      <td>-0.437359</td>\n",
       "      <td>0.715120</td>\n",
       "      <td>0.003194</td>\n",
       "      <td>-0.229456</td>\n",
       "      <td>-0.818015</td>\n",
       "      <td>0.394674</td>\n",
       "      <td>-3.508585</td>\n",
       "    </tr>\n",
       "    <tr>\n",
       "      <th>8121</th>\n",
       "      <td>-3.944373</td>\n",
       "      <td>12.335479</td>\n",
       "      <td>6.363648</td>\n",
       "      <td>-2.842025</td>\n",
       "      <td>-2.486025</td>\n",
       "      <td>-1.559322</td>\n",
       "      <td>-0.245599</td>\n",
       "      <td>-0.653106</td>\n",
       "      <td>-1.012220</td>\n",
       "      <td>-0.356785</td>\n",
       "      <td>...</td>\n",
       "      <td>0.680913</td>\n",
       "      <td>-0.453725</td>\n",
       "      <td>-0.492549</td>\n",
       "      <td>-0.267313</td>\n",
       "      <td>-0.588917</td>\n",
       "      <td>6.232774</td>\n",
       "      <td>-0.152238</td>\n",
       "      <td>1.169334</td>\n",
       "      <td>1.110287</td>\n",
       "      <td>0.382581</td>\n",
       "    </tr>\n",
       "    <tr>\n",
       "      <th>8122</th>\n",
       "      <td>0.733219</td>\n",
       "      <td>2.323136</td>\n",
       "      <td>-4.286792</td>\n",
       "      <td>-0.239304</td>\n",
       "      <td>-0.924227</td>\n",
       "      <td>0.527117</td>\n",
       "      <td>0.789080</td>\n",
       "      <td>-0.243028</td>\n",
       "      <td>-0.464658</td>\n",
       "      <td>-0.647729</td>\n",
       "      <td>...</td>\n",
       "      <td>1.361585</td>\n",
       "      <td>-0.454903</td>\n",
       "      <td>0.047252</td>\n",
       "      <td>0.612091</td>\n",
       "      <td>-0.811205</td>\n",
       "      <td>-0.032385</td>\n",
       "      <td>0.021479</td>\n",
       "      <td>-0.191906</td>\n",
       "      <td>0.014167</td>\n",
       "      <td>-0.350271</td>\n",
       "    </tr>\n",
       "    <tr>\n",
       "      <th>8123</th>\n",
       "      <td>-4.501022</td>\n",
       "      <td>16.396373</td>\n",
       "      <td>8.537556</td>\n",
       "      <td>-2.851764</td>\n",
       "      <td>-3.303852</td>\n",
       "      <td>-0.909450</td>\n",
       "      <td>-0.225414</td>\n",
       "      <td>-0.813184</td>\n",
       "      <td>-0.131128</td>\n",
       "      <td>0.237447</td>\n",
       "      <td>...</td>\n",
       "      <td>0.000178</td>\n",
       "      <td>-0.032336</td>\n",
       "      <td>-0.337814</td>\n",
       "      <td>0.440210</td>\n",
       "      <td>-0.279799</td>\n",
       "      <td>-0.005265</td>\n",
       "      <td>0.254645</td>\n",
       "      <td>0.931592</td>\n",
       "      <td>-0.657711</td>\n",
       "      <td>2.767394</td>\n",
       "    </tr>\n",
       "  </tbody>\n",
       "</table>\n",
       "<p>8124 rows × 55 columns</p>\n",
       "</div>"
      ],
      "text/plain": [
       "            0          1         2         3         4         5         6   \\\n",
       "0    -3.680147  -1.484409 -0.636762  0.248645 -3.230018  1.053064 -0.580417   \n",
       "1    -2.864404  -1.767377  1.294714  1.785572 -2.188662  1.001328  2.503934   \n",
       "2    -4.093188  -1.873127  1.274433  1.837971 -1.928019  1.560152  4.710103   \n",
       "3    -3.547954  -2.096685 -0.136878  0.212696 -2.398307  1.227991  0.002921   \n",
       "4    -2.638086  -1.462163 -0.075675  0.637973 -2.899138 -0.106028 -2.735830   \n",
       "...        ...        ...       ...       ...       ...       ...       ...   \n",
       "8119 -3.982507  14.834243  6.651835 -1.961792 -2.534746 -0.766692 -0.129951   \n",
       "8120 -3.051578  11.318368  5.324940 -2.743588 -2.522954  0.362966 -0.050271   \n",
       "8121 -3.944373  12.335479  6.363648 -2.842025 -2.486025 -1.559322 -0.245599   \n",
       "8122  0.733219   2.323136 -4.286792 -0.239304 -0.924227  0.527117  0.789080   \n",
       "8123 -4.501022  16.396373  8.537556 -2.851764 -3.303852 -0.909450 -0.225414   \n",
       "\n",
       "            7         8         9   ...        45        46        47  \\\n",
       "0    -0.187708 -2.996595  5.331251  ... -0.293498  0.232389  1.018749   \n",
       "1    -2.144348  1.173025 -0.367689  ... -0.722770 -1.840357  0.662563   \n",
       "2    -4.025752  2.069381 -0.613787  ...  0.770121  1.534809 -0.844769   \n",
       "3    -0.393705 -2.752344  5.091459  ...  0.325717  0.726405 -0.237105   \n",
       "4     1.649691  0.262638 -0.678329  ... -0.184892 -0.219163  0.499225   \n",
       "...        ...       ...       ...  ...       ...       ...       ...   \n",
       "8119 -0.427409 -0.004098 -0.087961  ...  0.132987  0.359419  0.121611   \n",
       "8120 -0.379380  0.779854  0.445192  ... -0.402034  0.360720  0.678856   \n",
       "8121 -0.653106 -1.012220 -0.356785  ...  0.680913 -0.453725 -0.492549   \n",
       "8122 -0.243028 -0.464658 -0.647729  ...  1.361585 -0.454903  0.047252   \n",
       "8123 -0.813184 -0.131128  0.237447  ...  0.000178 -0.032336 -0.337814   \n",
       "\n",
       "            48        49        50        51        52        53        54  \n",
       "0    -0.318467 -0.104539 -0.067732  0.112727  0.727238  0.127721 -0.518069  \n",
       "1     0.565062 -0.527104 -0.120009  0.079205 -0.082630  1.164686  1.108107  \n",
       "2    -0.548206  0.415805 -0.133117 -0.018598  0.072643 -0.499146 -0.443370  \n",
       "3    -0.429486 -0.519273 -0.211661  0.165038  0.956593  0.254841 -0.226865  \n",
       "4     0.016602  0.072348 -0.095170 -0.097843 -0.305188  0.440379 -0.020136  \n",
       "...        ...       ...       ...       ...       ...       ...       ...  \n",
       "8119 -0.360874 -0.755206  6.280072 -0.152940  0.787943  0.432931 -0.501936  \n",
       "8120 -0.437359  0.715120  0.003194 -0.229456 -0.818015  0.394674 -3.508585  \n",
       "8121 -0.267313 -0.588917  6.232774 -0.152238  1.169334  1.110287  0.382581  \n",
       "8122  0.612091 -0.811205 -0.032385  0.021479 -0.191906  0.014167 -0.350271  \n",
       "8123  0.440210 -0.279799 -0.005265  0.254645  0.931592 -0.657711  2.767394  \n",
       "\n",
       "[8124 rows x 55 columns]"
      ]
     },
     "execution_count": 23,
     "metadata": {},
     "output_type": "execute_result"
    }
   ],
   "source": [
    "from sklearn.decomposition import PCA\n",
    "pca=PCA(n_components=55)\n",
    "pca.fit(x)\n",
    "principalComponents=pd.DataFrame(pca.fit_transform(x))\n",
    "principalComponents"
   ]
  },
  {
   "cell_type": "markdown",
   "id": "0409f8fb",
   "metadata": {},
   "source": [
    "### Lets chcek information retained after dimensionality reduction therefore we reduced the dimensions from 92 to 55"
   ]
  },
  {
   "cell_type": "code",
   "execution_count": 24,
   "id": "ff6a23d7",
   "metadata": {},
   "outputs": [
    {
     "data": {
      "text/plain": [
       "array([0.09437127, 0.07230109, 0.0600148 , 0.05696235, 0.05025506,\n",
       "       0.04583798, 0.03548853, 0.03340076, 0.02556908, 0.02300916,\n",
       "       0.0220914 , 0.02058387, 0.01998826, 0.0164684 , 0.01597799,\n",
       "       0.01446102, 0.01387054, 0.01371623, 0.0128988 , 0.01269265,\n",
       "       0.01243641, 0.01188057, 0.01163843, 0.01148427, 0.01132959,\n",
       "       0.01097357, 0.01070426, 0.01065944, 0.01058887, 0.01054709,\n",
       "       0.00996302, 0.00980315, 0.00967997, 0.00937808, 0.00911035,\n",
       "       0.00893844, 0.00868681, 0.00862876, 0.00842315, 0.00790536,\n",
       "       0.00760762, 0.0075414 , 0.00720563, 0.00686167, 0.00662826,\n",
       "       0.00656922, 0.00627282, 0.00620385, 0.00570927, 0.00549378,\n",
       "       0.00531529, 0.00526142, 0.00522193, 0.00501309, 0.00482045])"
      ]
     },
     "execution_count": 24,
     "metadata": {},
     "output_type": "execute_result"
    }
   ],
   "source": [
    "pca.explained_variance_ratio_"
   ]
  },
  {
   "cell_type": "code",
   "execution_count": 25,
   "id": "6a3766ba",
   "metadata": {},
   "outputs": [
    {
     "data": {
      "text/plain": [
       "0.9544445657914669"
      ]
     },
     "execution_count": 25,
     "metadata": {},
     "output_type": "execute_result"
    }
   ],
   "source": [
    "sum(pca.explained_variance_ratio_)"
   ]
  },
  {
   "cell_type": "markdown",
   "id": "22860b91",
   "metadata": {},
   "source": [
    "### We will use f1 score as the metrics as it is balanced dataset problem\n",
    "Maximum f1 score in between random states 42 to 100"
   ]
  },
  {
   "cell_type": "code",
   "execution_count": 26,
   "id": "e8faea3e",
   "metadata": {},
   "outputs": [],
   "source": [
    "from sklearn.model_selection import train_test_split\n",
    "from sklearn.metrics import f1_score\n",
    "def max_f1_score(clf,df_x,y):\n",
    "    maxf1=0\n",
    "    for r_state in range(40,100):\n",
    "        x_train,x_test,y_train,y_test=train_test_split(df_x,y,test_size=0.20,random_state=r_state)\n",
    "        clf.fit(x_train,y_train)\n",
    "        y_pred=clf.predict(x_test)\n",
    "        f1_scr=f1_score(y_test,y_pred)\n",
    "        print(\"random state :\",r_state,\" and f1 score: \",f1_scr)\n",
    "        if f1_scr>maxf1:\n",
    "            maxf1=f1_scr\n",
    "            sutable_r_state=r_state\n",
    "    print(\"maximum f1_score is at random state :\",sutable_r_state,\" and it is :\",maxf1)\n"
   ]
  },
  {
   "cell_type": "markdown",
   "id": "3b714962",
   "metadata": {},
   "source": [
    "### lets use logistic regression"
   ]
  },
  {
   "cell_type": "code",
   "execution_count": 27,
   "id": "4ff1812a",
   "metadata": {},
   "outputs": [
    {
     "name": "stdout",
     "output_type": "stream",
     "text": [
      "random state : 40  and f1 score:  1.0\n",
      "random state : 41  and f1 score:  1.0\n",
      "random state : 42  and f1 score:  1.0\n",
      "random state : 43  and f1 score:  1.0\n",
      "random state : 44  and f1 score:  1.0\n",
      "random state : 45  and f1 score:  0.9993519118600129\n",
      "random state : 46  and f1 score:  0.9987684729064039\n",
      "random state : 47  and f1 score:  0.9993761696818465\n",
      "random state : 48  and f1 score:  1.0\n",
      "random state : 49  and f1 score:  1.0\n",
      "random state : 50  and f1 score:  1.0\n",
      "random state : 51  and f1 score:  1.0\n",
      "random state : 52  and f1 score:  0.9993746091307067\n",
      "random state : 53  and f1 score:  1.0\n",
      "random state : 54  and f1 score:  0.9986702127659575\n",
      "random state : 55  and f1 score:  0.9993690851735015\n",
      "random state : 56  and f1 score:  0.9993618379068284\n",
      "random state : 57  and f1 score:  0.9993527508090615\n",
      "random state : 58  and f1 score:  0.9980607627666451\n",
      "random state : 59  and f1 score:  0.9993777224642191\n",
      "random state : 60  and f1 score:  1.0\n",
      "random state : 61  and f1 score:  1.0\n",
      "random state : 62  and f1 score:  0.9987405541561712\n",
      "random state : 63  and f1 score:  1.0\n",
      "random state : 64  and f1 score:  0.9993502274204028\n",
      "random state : 65  and f1 score:  0.9993519118600129\n",
      "random state : 66  and f1 score:  1.0\n",
      "random state : 67  and f1 score:  1.0\n",
      "random state : 68  and f1 score:  1.0\n",
      "random state : 69  and f1 score:  1.0\n",
      "random state : 70  and f1 score:  1.0\n",
      "random state : 71  and f1 score:  0.9993690851735015\n",
      "random state : 72  and f1 score:  0.9993626513702996\n",
      "random state : 73  and f1 score:  1.0\n",
      "random state : 74  and f1 score:  0.9981191222570532\n",
      "random state : 75  and f1 score:  0.9993642720915448\n",
      "random state : 76  and f1 score:  1.0\n",
      "random state : 77  and f1 score:  1.0\n",
      "random state : 78  and f1 score:  0.9993618379068284\n",
      "random state : 79  and f1 score:  1.0\n",
      "random state : 80  and f1 score:  0.9987373737373738\n",
      "random state : 81  and f1 score:  0.9993577392421323\n",
      "random state : 82  and f1 score:  0.9993552546744036\n",
      "random state : 83  and f1 score:  1.0\n",
      "random state : 84  and f1 score:  1.0\n",
      "random state : 85  and f1 score:  0.9993650793650793\n",
      "random state : 86  and f1 score:  0.9993610223642173\n",
      "random state : 87  and f1 score:  1.0\n",
      "random state : 88  and f1 score:  1.0\n",
      "random state : 89  and f1 score:  1.0\n",
      "random state : 90  and f1 score:  0.9993493819128172\n",
      "random state : 91  and f1 score:  0.9987146529562981\n",
      "random state : 92  and f1 score:  0.9993434011818779\n",
      "random state : 93  and f1 score:  1.0\n",
      "random state : 94  and f1 score:  1.0\n",
      "random state : 95  and f1 score:  0.999344262295082\n",
      "random state : 96  and f1 score:  1.0\n",
      "random state : 97  and f1 score:  1.0\n",
      "random state : 98  and f1 score:  0.9993346640053227\n",
      "random state : 99  and f1 score:  1.0\n",
      "maximum f1_score is at random state : 40  and it is : 1.0\n"
     ]
    }
   ],
   "source": [
    "from sklearn.linear_model import LogisticRegression\n",
    "LR=LogisticRegression()\n",
    "max_f1_score(LR,df_x,y)"
   ]
  },
  {
   "cell_type": "markdown",
   "id": "d522dfbe",
   "metadata": {},
   "source": [
    "### Lets use cross_val_score and evaluate the logistic regression model"
   ]
  },
  {
   "cell_type": "code",
   "execution_count": 28,
   "id": "b9dc79f3",
   "metadata": {},
   "outputs": [
    {
     "data": {
      "text/plain": [
       "array([0.91569231, 0.99938462, 0.99815385, 1.        , 0.64716749])"
      ]
     },
     "execution_count": 28,
     "metadata": {},
     "output_type": "execute_result"
    }
   ],
   "source": [
    "from sklearn.model_selection import cross_val_score\n",
    "cross_val_score(LR,principalComponents,y,cv=5)"
   ]
  },
  {
   "cell_type": "code",
   "execution_count": 29,
   "id": "909059e3",
   "metadata": {},
   "outputs": [
    {
     "name": "stdout",
     "output_type": "stream",
     "text": [
      "Mean f1 score for logistic classifier:  0.9120796513830995\n",
      "standard deviation in f1 score for logistic classifier:  0.13634692310911634\n"
     ]
    }
   ],
   "source": [
    "print(\"Mean f1 score for logistic classifier: \",cross_val_score(LR,principalComponents,y,cv=5).mean())\n",
    "print(\"standard deviation in f1 score for logistic classifier: \",cross_val_score(LR,principalComponents,y,cv=5).std())"
   ]
  },
  {
   "cell_type": "code",
   "execution_count": 30,
   "id": "e902c673",
   "metadata": {},
   "outputs": [],
   "source": [
    "x_train,x_test,y_train,y_test=train_test_split(df_x,y,test_size=0.20,random_state=40)\n",
    "LR=LogisticRegression()\n",
    "LR.fit(x_train,y_train)\n",
    "y_pred=LR.predict(x_test)"
   ]
  },
  {
   "cell_type": "code",
   "execution_count": 31,
   "id": "f0b69e6b",
   "metadata": {},
   "outputs": [
    {
     "name": "stdout",
     "output_type": "stream",
     "text": [
      "Confusion matrix \n",
      " [[842   0]\n",
      " [  0 783]]\n",
      "f1 score is :  1.0\n",
      "classification report \n",
      "               precision    recall  f1-score   support\n",
      "\n",
      "           0       1.00      1.00      1.00       842\n",
      "           1       1.00      1.00      1.00       783\n",
      "\n",
      "    accuracy                           1.00      1625\n",
      "   macro avg       1.00      1.00      1.00      1625\n",
      "weighted avg       1.00      1.00      1.00      1625\n",
      "\n",
      "AUC ROC Score:  1.0\n"
     ]
    }
   ],
   "source": [
    "from sklearn.metrics import confusion_matrix\n",
    "from sklearn.metrics import classification_report\n",
    "from sklearn.metrics import f1_score\n",
    "from sklearn.metrics import roc_auc_score\n",
    "print(\"Confusion matrix \\n\",confusion_matrix(y_test,y_pred))\n",
    "print(\"f1 score is : \",f1_score(y_test,y_pred))\n",
    "print(\"classification report \\n\",classification_report(y_test,y_pred))\n",
    "print(\"AUC ROC Score: \",roc_auc_score(y_test,y_pred))"
   ]
  },
  {
   "cell_type": "markdown",
   "id": "566a6f19",
   "metadata": {},
   "source": [
    "### Lets use KNN\n",
    "For KNN we need to know the best value of k using grid search"
   ]
  },
  {
   "cell_type": "code",
   "execution_count": 32,
   "id": "a75631f9",
   "metadata": {},
   "outputs": [
    {
     "data": {
      "text/plain": [
       "{'n_neighbors': 2}"
      ]
     },
     "execution_count": 32,
     "metadata": {},
     "output_type": "execute_result"
    }
   ],
   "source": [
    "from sklearn.model_selection import GridSearchCV\n",
    "from sklearn.neighbors import KNeighborsClassifier\n",
    "kc=KNeighborsClassifier()\n",
    "neighbors={\"n_neighbors\":range(1,30)}\n",
    "clf = GridSearchCV(kc, neighbors, cv=5,scoring=\"f1\")\n",
    "clf.fit(principalComponents,y)\n",
    "clf.best_params_"
   ]
  },
  {
   "cell_type": "code",
   "execution_count": 33,
   "id": "9aa51fdf",
   "metadata": {},
   "outputs": [
    {
     "name": "stdout",
     "output_type": "stream",
     "text": [
      "random state : 40  and f1 score:  1.0\n",
      "random state : 41  and f1 score:  1.0\n",
      "random state : 42  and f1 score:  1.0\n",
      "random state : 43  and f1 score:  1.0\n",
      "random state : 44  and f1 score:  1.0\n",
      "random state : 45  and f1 score:  1.0\n",
      "random state : 46  and f1 score:  0.9987684729064039\n",
      "random state : 47  and f1 score:  1.0\n",
      "random state : 48  and f1 score:  1.0\n",
      "random state : 49  and f1 score:  1.0\n",
      "random state : 50  and f1 score:  1.0\n",
      "random state : 51  and f1 score:  1.0\n",
      "random state : 52  and f1 score:  1.0\n",
      "random state : 53  and f1 score:  1.0\n",
      "random state : 54  and f1 score:  0.9986702127659575\n",
      "random state : 55  and f1 score:  1.0\n",
      "random state : 56  and f1 score:  1.0\n",
      "random state : 57  and f1 score:  1.0\n",
      "random state : 58  and f1 score:  0.9987080103359173\n",
      "random state : 59  and f1 score:  1.0\n",
      "random state : 60  and f1 score:  1.0\n",
      "random state : 61  and f1 score:  1.0\n",
      "random state : 62  and f1 score:  1.0\n",
      "random state : 63  and f1 score:  1.0\n",
      "random state : 64  and f1 score:  1.0\n",
      "random state : 65  and f1 score:  1.0\n",
      "random state : 66  and f1 score:  1.0\n",
      "random state : 67  and f1 score:  1.0\n",
      "random state : 68  and f1 score:  1.0\n",
      "random state : 69  and f1 score:  1.0\n",
      "random state : 70  and f1 score:  1.0\n",
      "random state : 71  and f1 score:  1.0\n",
      "random state : 72  and f1 score:  1.0\n",
      "random state : 73  and f1 score:  1.0\n",
      "random state : 74  and f1 score:  0.9987468671679198\n",
      "random state : 75  and f1 score:  1.0\n",
      "random state : 76  and f1 score:  1.0\n",
      "random state : 77  and f1 score:  1.0\n",
      "random state : 78  and f1 score:  1.0\n",
      "random state : 79  and f1 score:  1.0\n",
      "random state : 80  and f1 score:  1.0\n",
      "random state : 81  and f1 score:  1.0\n",
      "random state : 82  and f1 score:  1.0\n",
      "random state : 83  and f1 score:  1.0\n",
      "random state : 84  and f1 score:  1.0\n",
      "random state : 85  and f1 score:  1.0\n",
      "random state : 86  and f1 score:  1.0\n",
      "random state : 87  and f1 score:  1.0\n",
      "random state : 88  and f1 score:  1.0\n",
      "random state : 89  and f1 score:  1.0\n",
      "random state : 90  and f1 score:  1.0\n",
      "random state : 91  and f1 score:  0.9987146529562981\n",
      "random state : 92  and f1 score:  1.0\n",
      "random state : 93  and f1 score:  1.0\n",
      "random state : 94  and f1 score:  1.0\n",
      "random state : 95  and f1 score:  1.0\n",
      "random state : 96  and f1 score:  1.0\n",
      "random state : 97  and f1 score:  1.0\n",
      "random state : 98  and f1 score:  1.0\n",
      "random state : 99  and f1 score:  1.0\n",
      "maximum f1_score is at random state : 40  and it is : 1.0\n"
     ]
    }
   ],
   "source": [
    "kc=KNeighborsClassifier(n_neighbors=2)\n",
    "max_f1_score(kc,principalComponents,y)"
   ]
  },
  {
   "cell_type": "markdown",
   "id": "ef2266f2",
   "metadata": {},
   "source": [
    "### Lets use cross_val_score and evaluate the knn model"
   ]
  },
  {
   "cell_type": "code",
   "execution_count": 34,
   "id": "c56f97d8",
   "metadata": {},
   "outputs": [
    {
     "data": {
      "text/plain": [
       "array([0.80669711, 1.        , 0.99550994, 1.        , 0.84057971])"
      ]
     },
     "execution_count": 34,
     "metadata": {},
     "output_type": "execute_result"
    }
   ],
   "source": [
    "cross_val_score(kc,principalComponents,y,cv=5,scoring=\"f1\")"
   ]
  },
  {
   "cell_type": "code",
   "execution_count": 35,
   "id": "8fbc1d72",
   "metadata": {},
   "outputs": [
    {
     "name": "stdout",
     "output_type": "stream",
     "text": [
      "Mean f1 score for knn classifier:  0.9285573520965171\n",
      "standard deviation in f1 score for knn classifier:  0.08634898698682567\n"
     ]
    }
   ],
   "source": [
    "print(\"Mean f1 score for knn classifier: \",cross_val_score(kc,principalComponents,y,cv=5,scoring=\"f1\").mean())\n",
    "print(\"standard deviation in f1 score for knn classifier: \",cross_val_score(kc,principalComponents,y,cv=5,scoring=\"f1\").std())"
   ]
  },
  {
   "cell_type": "markdown",
   "id": "94705b6f",
   "metadata": {},
   "source": [
    "### lets use decision tree"
   ]
  },
  {
   "cell_type": "code",
   "execution_count": 36,
   "id": "ab26f73a",
   "metadata": {},
   "outputs": [
    {
     "name": "stdout",
     "output_type": "stream",
     "text": [
      "random state : 40  and f1 score:  0.9968091895341417\n",
      "random state : 41  and f1 score:  0.9948783610755442\n",
      "random state : 42  and f1 score:  0.998719590268886\n",
      "random state : 43  and f1 score:  0.9949367088607595\n",
      "random state : 44  and f1 score:  0.9975669099756691\n",
      "random state : 45  and f1 score:  0.9980532121998702\n",
      "random state : 46  and f1 score:  0.9956869993838571\n",
      "random state : 47  and f1 score:  0.9968808484092326\n",
      "random state : 48  and f1 score:  0.9962168978562421\n",
      "random state : 49  and f1 score:  0.9975579975579976\n",
      "random state : 50  and f1 score:  0.9969567863664028\n",
      "random state : 51  and f1 score:  0.9967595593000649\n",
      "random state : 52  and f1 score:  0.9968769519050594\n",
      "random state : 53  and f1 score:  0.9934210526315789\n",
      "random state : 54  and f1 score:  0.9980066445182724\n",
      "random state : 55  and f1 score:  0.9968414403032217\n",
      "random state : 56  and f1 score:  0.9929802169751116\n",
      "random state : 57  and f1 score:  0.9915857605177995\n",
      "random state : 58  and f1 score:  0.9961240310077519\n",
      "random state : 59  and f1 score:  0.9943785134291069\n",
      "random state : 60  and f1 score:  0.9930423782416192\n",
      "random state : 61  and f1 score:  0.9980145598941098\n",
      "random state : 62  and f1 score:  0.9987421383647799\n",
      "random state : 63  and f1 score:  0.9949622166246852\n",
      "random state : 64  and f1 score:  0.99545159194282\n",
      "random state : 65  and f1 score:  0.9987063389391979\n",
      "random state : 66  and f1 score:  0.9975186104218362\n",
      "random state : 67  and f1 score:  0.9967083607636603\n",
      "random state : 68  and f1 score:  0.9969001859888407\n",
      "random state : 69  and f1 score:  0.9968132568514979\n",
      "random state : 70  and f1 score:  0.9981120201384518\n",
      "random state : 71  and f1 score:  0.9974779319041615\n",
      "random state : 72  and f1 score:  0.9968132568514979\n",
      "random state : 73  and f1 score:  0.9967595593000648\n",
      "random state : 74  and f1 score:  0.9981191222570532\n",
      "random state : 75  and f1 score:  0.9968294229549778\n",
      "random state : 76  and f1 score:  0.9974293059125964\n",
      "random state : 77  and f1 score:  0.9960369881109643\n",
      "random state : 78  and f1 score:  0.996168582375479\n",
      "random state : 79  and f1 score:  0.9975031210986267\n",
      "random state : 80  and f1 score:  0.9968533668974198\n",
      "random state : 81  and f1 score:  0.9967886962106615\n",
      "random state : 82  and f1 score:  0.9954809554551324\n",
      "random state : 83  and f1 score:  0.9961977186311788\n",
      "random state : 84  and f1 score:  0.9955499046408137\n",
      "random state : 85  and f1 score:  0.9955611921369689\n",
      "random state : 86  and f1 score:  0.9929980903882877\n",
      "random state : 87  and f1 score:  0.9960578186596584\n",
      "random state : 88  and f1 score:  0.9943217665615143\n",
      "random state : 89  and f1 score:  0.9974391805377721\n",
      "random state : 90  and f1 score:  0.996746909564086\n",
      "random state : 91  and f1 score:  0.9948652118100129\n",
      "random state : 92  and f1 score:  0.9960578186596584\n",
      "random state : 93  and f1 score:  0.9961139896373058\n",
      "random state : 94  and f1 score:  0.995475113122172\n",
      "random state : 95  and f1 score:  0.9980353634577603\n",
      "random state : 96  and f1 score:  0.9974293059125964\n",
      "random state : 97  and f1 score:  0.9961832061068702\n",
      "random state : 98  and f1 score:  0.99734395750332\n",
      "random state : 99  and f1 score:  0.9987684729064039\n",
      "maximum f1_score is at random state : 99  and it is : 0.9987684729064039\n"
     ]
    }
   ],
   "source": [
    "from sklearn.tree import DecisionTreeClassifier\n",
    "dc=DecisionTreeClassifier()\n",
    "max_f1_score(dc,principalComponents,y)"
   ]
  },
  {
   "cell_type": "markdown",
   "id": "a8a90098",
   "metadata": {},
   "source": [
    "### Lets use cross_val_score and evaluate the knn model"
   ]
  },
  {
   "cell_type": "code",
   "execution_count": 37,
   "id": "8fe763be",
   "metadata": {},
   "outputs": [
    {
     "data": {
      "text/plain": [
       "array([0.92462988, 0.99680919, 0.96428571, 0.99936102, 0.6945309 ])"
      ]
     },
     "execution_count": 37,
     "metadata": {},
     "output_type": "execute_result"
    }
   ],
   "source": [
    "cross_val_score(dc,principalComponents,y,cv=5,scoring=\"f1\")"
   ]
  },
  {
   "cell_type": "code",
   "execution_count": 38,
   "id": "bd5232f1",
   "metadata": {},
   "outputs": [
    {
     "name": "stdout",
     "output_type": "stream",
     "text": [
      "Mean f1 score for decision tree classifier:  0.9198569299448351\n",
      "standard deviation in f1 score for decision tree classifier:  0.11159553165288558\n"
     ]
    }
   ],
   "source": [
    "print(\"Mean f1 score for decision tree classifier: \",cross_val_score(dc,principalComponents,y,cv=5,scoring=\"f1\").mean())\n",
    "print(\"standard deviation in f1 score for decision tree classifier: \",cross_val_score(dc,principalComponents,y,cv=5,scoring=\"f1\").std())"
   ]
  },
  {
   "cell_type": "markdown",
   "id": "7917cc87",
   "metadata": {},
   "source": [
    "### lets use ensemble calssifier such as random forest"
   ]
  },
  {
   "cell_type": "code",
   "execution_count": 39,
   "id": "d56f7527",
   "metadata": {},
   "outputs": [
    {
     "data": {
      "text/plain": [
       "{'n_estimators': 10}"
      ]
     },
     "execution_count": 39,
     "metadata": {},
     "output_type": "execute_result"
    }
   ],
   "source": [
    "from sklearn.ensemble import RandomForestClassifier\n",
    "from sklearn.model_selection import GridSearchCV\n",
    "parameters={\"n_estimators\":[10,100,500]}\n",
    "rf_clf=RandomForestClassifier()\n",
    "clf = GridSearchCV(rf_clf, parameters, cv=5,scoring=\"f1\")\n",
    "clf.fit(principalComponents,y)\n",
    "clf.best_params_"
   ]
  },
  {
   "cell_type": "code",
   "execution_count": 40,
   "id": "e590f11b",
   "metadata": {},
   "outputs": [
    {
     "name": "stdout",
     "output_type": "stream",
     "text": [
      "random state : 40  and f1 score:  1.0\n",
      "random state : 41  and f1 score:  1.0\n",
      "random state : 42  and f1 score:  1.0\n",
      "random state : 43  and f1 score:  1.0\n",
      "random state : 44  and f1 score:  1.0\n",
      "random state : 45  and f1 score:  0.9993519118600129\n",
      "random state : 46  and f1 score:  0.9987684729064039\n",
      "random state : 47  and f1 score:  0.9993761696818465\n",
      "random state : 48  and f1 score:  1.0\n",
      "random state : 49  and f1 score:  1.0\n",
      "random state : 50  and f1 score:  0.9993913572732805\n",
      "random state : 51  and f1 score:  1.0\n",
      "random state : 52  and f1 score:  0.9993746091307067\n",
      "random state : 53  and f1 score:  0.9986807387862797\n",
      "random state : 54  and f1 score:  1.0\n",
      "random state : 55  and f1 score:  0.9993690851735015\n",
      "random state : 56  and f1 score:  0.9993618379068284\n",
      "random state : 57  and f1 score:  0.9993527508090615\n",
      "random state : 58  and f1 score:  0.9987080103359173\n",
      "random state : 59  and f1 score:  1.0\n",
      "random state : 60  and f1 score:  1.0\n",
      "random state : 61  and f1 score:  0.9986754966887418\n",
      "random state : 62  and f1 score:  0.9993706733794839\n",
      "random state : 63  and f1 score:  0.9974811083123426\n",
      "random state : 64  and f1 score:  0.9993502274204028\n",
      "random state : 65  and f1 score:  0.9993519118600129\n",
      "random state : 66  and f1 score:  0.9993808049535603\n",
      "random state : 67  and f1 score:  0.999340804218853\n",
      "random state : 68  and f1 score:  1.0\n",
      "random state : 69  and f1 score:  1.0\n",
      "random state : 70  and f1 score:  0.9993698802772526\n",
      "random state : 71  and f1 score:  0.9993690851735015\n",
      "random state : 72  and f1 score:  0.9993626513702996\n",
      "random state : 73  and f1 score:  1.0\n",
      "random state : 74  and f1 score:  0.9987468671679198\n",
      "random state : 75  and f1 score:  0.9993642720915448\n",
      "random state : 76  and f1 score:  1.0\n",
      "random state : 77  and f1 score:  0.9993390614672836\n",
      "random state : 78  and f1 score:  0.9993618379068284\n",
      "random state : 79  and f1 score:  0.9993746091307067\n",
      "random state : 80  and f1 score:  0.9987373737373738\n",
      "random state : 81  and f1 score:  0.9993577392421323\n",
      "random state : 82  and f1 score:  0.9993552546744036\n",
      "random state : 83  and f1 score:  1.0\n",
      "random state : 84  and f1 score:  0.9993642720915448\n",
      "random state : 85  and f1 score:  0.9993650793650793\n",
      "random state : 86  and f1 score:  1.0\n",
      "random state : 87  and f1 score:  1.0\n",
      "random state : 88  and f1 score:  0.9993682880606444\n",
      "random state : 89  and f1 score:  1.0\n",
      "random state : 90  and f1 score:  0.9993493819128172\n",
      "random state : 91  and f1 score:  0.9987146529562981\n",
      "random state : 92  and f1 score:  0.9993434011818779\n",
      "random state : 93  and f1 score:  1.0\n",
      "random state : 94  and f1 score:  1.0\n",
      "random state : 95  and f1 score:  1.0\n",
      "random state : 96  and f1 score:  0.9993569131832798\n",
      "random state : 97  and f1 score:  1.0\n",
      "random state : 98  and f1 score:  0.9993346640053227\n",
      "random state : 99  and f1 score:  1.0\n",
      "maximum f1_score is at random state : 40  and it is : 1.0\n"
     ]
    }
   ],
   "source": [
    "rf_clf=RandomForestClassifier(n_estimators=10)\n",
    "max_f1_score(rf_clf,principalComponents,y)"
   ]
  },
  {
   "cell_type": "markdown",
   "id": "bd6732ad",
   "metadata": {},
   "source": [
    "### lets again use cross val score"
   ]
  },
  {
   "cell_type": "code",
   "execution_count": 41,
   "id": "1eadbcfe",
   "metadata": {},
   "outputs": [
    {
     "data": {
      "text/plain": [
       "array([0.7614534 , 0.99936102, 0.9844358 , 1.        , 0.73006993])"
      ]
     },
     "execution_count": 41,
     "metadata": {},
     "output_type": "execute_result"
    }
   ],
   "source": [
    "cross_val_score(rf_clf,principalComponents,y,cv=5,scoring=\"f1\")"
   ]
  },
  {
   "cell_type": "code",
   "execution_count": 42,
   "id": "85ac1172",
   "metadata": {},
   "outputs": [
    {
     "name": "stdout",
     "output_type": "stream",
     "text": [
      "Mean f1 score for random forest classifier:  0.9097846510748469\n",
      "standard deviation in f1 score for random forest classifier:  0.10325131408831109\n"
     ]
    }
   ],
   "source": [
    "print(\"Mean f1 score for random forest classifier: \",cross_val_score(rf_clf,principalComponents,y,cv=5,scoring=\"f1\").mean())\n",
    "print(\"standard deviation in f1 score for random forest classifier: \",cross_val_score(rf_clf,principalComponents,y,cv=5,scoring=\"f1\").std())"
   ]
  },
  {
   "cell_type": "markdown",
   "id": "8972d7e2",
   "metadata": {},
   "source": [
    "### Lets use SVM"
   ]
  },
  {
   "cell_type": "code",
   "execution_count": 43,
   "id": "f25eeea5",
   "metadata": {},
   "outputs": [
    {
     "data": {
      "text/plain": [
       "{'C': 1, 'kernel': 'poly'}"
      ]
     },
     "execution_count": 43,
     "metadata": {},
     "output_type": "execute_result"
    }
   ],
   "source": [
    "from sklearn.svm import SVC\n",
    "svc=SVC()\n",
    "parameters={\"kernel\":[\"linear\", \"poly\", \"rbf\"],\"C\":[0.001,0.01,0.1,1,10]}\n",
    "clf = GridSearchCV(svc, parameters, cv=5,scoring=\"f1\")\n",
    "clf.fit(principalComponents,y)\n",
    "clf.best_params_"
   ]
  },
  {
   "cell_type": "code",
   "execution_count": 44,
   "id": "9a2f2c18",
   "metadata": {},
   "outputs": [
    {
     "name": "stdout",
     "output_type": "stream",
     "text": [
      "random state : 40  and f1 score:  1.0\n",
      "random state : 41  and f1 score:  0.9993585631815266\n",
      "random state : 42  and f1 score:  1.0\n",
      "random state : 43  and f1 score:  0.9993650793650793\n",
      "random state : 44  and f1 score:  1.0\n",
      "random state : 45  and f1 score:  0.9993519118600129\n",
      "random state : 46  and f1 score:  0.9987684729064039\n",
      "random state : 47  and f1 score:  0.9993761696818465\n",
      "random state : 48  and f1 score:  1.0\n",
      "random state : 49  and f1 score:  0.9987745098039216\n",
      "random state : 50  and f1 score:  0.9993913572732805\n",
      "random state : 51  and f1 score:  0.9993502274204028\n",
      "random state : 52  and f1 score:  0.9993746091307067\n",
      "random state : 53  and f1 score:  0.9993399339933994\n",
      "random state : 54  and f1 score:  0.9986702127659575\n",
      "random state : 55  and f1 score:  0.9993690851735015\n",
      "random state : 56  and f1 score:  0.9987228607918263\n",
      "random state : 57  and f1 score:  0.9993527508090615\n",
      "random state : 58  and f1 score:  0.9980607627666451\n",
      "random state : 59  and f1 score:  0.9987546699875467\n",
      "random state : 60  and f1 score:  0.9993682880606444\n",
      "random state : 61  and f1 score:  1.0\n",
      "random state : 62  and f1 score:  0.9987405541561712\n",
      "random state : 63  and f1 score:  1.0\n",
      "random state : 64  and f1 score:  0.9993502274204028\n",
      "random state : 65  and f1 score:  0.9993519118600129\n",
      "random state : 66  and f1 score:  0.9993808049535603\n",
      "random state : 67  and f1 score:  1.0\n",
      "random state : 68  and f1 score:  1.0\n",
      "random state : 69  and f1 score:  0.9993626513702996\n",
      "random state : 70  and f1 score:  1.0\n",
      "random state : 71  and f1 score:  0.9987373737373738\n",
      "random state : 72  and f1 score:  0.9961636828644501\n",
      "random state : 73  and f1 score:  1.0\n",
      "random state : 74  and f1 score:  0.9981191222570532\n",
      "random state : 75  and f1 score:  0.9993642720915448\n",
      "random state : 76  and f1 score:  1.0\n",
      "random state : 77  and f1 score:  0.9993390614672836\n",
      "random state : 78  and f1 score:  0.9987228607918263\n",
      "random state : 79  and f1 score:  0.9993746091307067\n",
      "random state : 80  and f1 score:  0.9993690851735015\n",
      "random state : 81  and f1 score:  0.9987146529562981\n",
      "random state : 82  and f1 score:  0.9987096774193548\n",
      "random state : 83  and f1 score:  1.0\n",
      "random state : 84  and f1 score:  0.9993642720915448\n",
      "random state : 85  and f1 score:  0.9987293519695045\n",
      "random state : 86  and f1 score:  0.9993610223642173\n",
      "random state : 87  and f1 score:  1.0\n",
      "random state : 88  and f1 score:  0.9993682880606444\n",
      "random state : 89  and f1 score:  0.9993585631815266\n",
      "random state : 90  and f1 score:  0.9993493819128172\n",
      "random state : 91  and f1 score:  0.9987146529562981\n",
      "random state : 92  and f1 score:  0.9993434011818779\n",
      "random state : 93  and f1 score:  1.0\n",
      "random state : 94  and f1 score:  1.0\n",
      "random state : 95  and f1 score:  0.999344262295082\n",
      "random state : 96  and f1 score:  1.0\n",
      "random state : 97  and f1 score:  1.0\n",
      "random state : 98  and f1 score:  0.9993346640053227\n",
      "random state : 99  and f1 score:  1.0\n",
      "maximum f1_score is at random state : 40  and it is : 1.0\n"
     ]
    }
   ],
   "source": [
    "svc=SVC(kernel=\"poly\",C=0.1)\n",
    "max_f1_score(svc,principalComponents,y)"
   ]
  },
  {
   "cell_type": "markdown",
   "id": "97113d5e",
   "metadata": {},
   "source": [
    "### lets again use cross val score"
   ]
  },
  {
   "cell_type": "code",
   "execution_count": 45,
   "id": "775bad44",
   "metadata": {},
   "outputs": [
    {
     "data": {
      "text/plain": [
       "array([0.80487805, 0.99936102, 0.89014883, 1.        , 0.95838433])"
      ]
     },
     "execution_count": 45,
     "metadata": {},
     "output_type": "execute_result"
    }
   ],
   "source": [
    "cross_val_score(svc,principalComponents,y,cv=5,scoring=\"f1\")"
   ]
  },
  {
   "cell_type": "code",
   "execution_count": 46,
   "id": "e9d980ce",
   "metadata": {},
   "outputs": [
    {
     "name": "stdout",
     "output_type": "stream",
     "text": [
      "Mean f1 score for SVM classifier:  0.930554446937325\n",
      "standard deviation in f1 score for SVM classifier:  0.07451000348973012\n"
     ]
    }
   ],
   "source": [
    "print(\"Mean f1 score for SVM classifier: \",cross_val_score(svc,principalComponents,y,cv=5,scoring=\"f1\").mean())\n",
    "print(\"standard deviation in f1 score for SVM classifier: \",cross_val_score(svc,principalComponents,y,cv=5,scoring=\"f1\").std())"
   ]
  },
  {
   "cell_type": "markdown",
   "id": "8eeb4cf8",
   "metadata": {},
   "source": [
    "### comparitively SVM is performing better so lets use svm\n",
    "#### random state 45"
   ]
  },
  {
   "cell_type": "code",
   "execution_count": 47,
   "id": "b0c3dce1",
   "metadata": {},
   "outputs": [],
   "source": [
    "svc=SVC(kernel=\"poly\",C=0.1)\n",
    "x_train,x_test,y_train,y_test=train_test_split(principalComponents, y,random_state = 45,test_size=0.20,stratify=y)\n",
    "svc.fit(x_train,y_train)\n",
    "y_pred=svc.predict(x_test)"
   ]
  },
  {
   "cell_type": "code",
   "execution_count": 48,
   "id": "279cca61",
   "metadata": {},
   "outputs": [
    {
     "name": "stdout",
     "output_type": "stream",
     "text": [
      "Confusion matrix \n",
      " [[842   0]\n",
      " [  0 783]]\n",
      "f1 score is :  1.0\n",
      "classification report \n",
      "               precision    recall  f1-score   support\n",
      "\n",
      "           0       1.00      1.00      1.00       842\n",
      "           1       1.00      1.00      1.00       783\n",
      "\n",
      "    accuracy                           1.00      1625\n",
      "   macro avg       1.00      1.00      1.00      1625\n",
      "weighted avg       1.00      1.00      1.00      1625\n",
      "\n",
      "AUC ROC Score:  1.0\n"
     ]
    }
   ],
   "source": [
    "\n",
    "from sklearn.metrics import confusion_matrix\n",
    "from sklearn.metrics import classification_report\n",
    "from sklearn.metrics import f1_score\n",
    "from sklearn.metrics import roc_auc_score\n",
    "print(\"Confusion matrix \\n\",confusion_matrix(y_test,y_pred))\n",
    "print(\"f1 score is : \",f1_score(y_test,y_pred))\n",
    "print(\"classification report \\n\",classification_report(y_test,y_pred))\n",
    "print(\"AUC ROC Score: \",roc_auc_score(y_test,y_pred))"
   ]
  },
  {
   "cell_type": "markdown",
   "id": "0a5a6219",
   "metadata": {},
   "source": [
    "### For KNN we need to know the best value of k using grid search\n",
    "##### neighbors={\"n_neighbors\":range(1,30)}\n",
    "##### clf = GridSearchCV(kc, neighbors, cv=5,scoring=\"f1\")\n",
    "##### clf.fit(principalComponents,y)\n",
    "##### clf.best_params_\n",
    "\n",
    "### lets use ensemble calssifier such as random forest\n",
    "##### parameters={\"n_estimators\":[10,100,500]}\n",
    "##### rf_clf=RandomForestClassifier()\n",
    "##### clf = GridSearchCV(rf_clf, parameters, cv=5,scoring=\"f1\")\n",
    "##### clf.fit(principalComponents,y)\n",
    "##### clf.best_params_\n",
    "\n",
    "### Lets use SVM\n",
    "##### parameters={\"kernel\":[\"linear\", \"poly\", \"rbf\"],\"C\":[0.001,0.01,0.1,1,10]}\n",
    "##### clf = GridSearchCV(svc, parameters, cv=5,scoring=\"f1\")\n",
    "##### clf.fit(principalComponents,y)\n",
    "##### clf.best_params_"
   ]
  },
  {
   "cell_type": "code",
   "execution_count": null,
   "id": "199be1d7",
   "metadata": {},
   "outputs": [],
   "source": []
  }
 ],
 "metadata": {
  "kernelspec": {
   "display_name": "Python 3",
   "language": "python",
   "name": "python3"
  },
  "language_info": {
   "codemirror_mode": {
    "name": "ipython",
    "version": 3
   },
   "file_extension": ".py",
   "mimetype": "text/x-python",
   "name": "python",
   "nbconvert_exporter": "python",
   "pygments_lexer": "ipython3",
   "version": "3.8.8"
  }
 },
 "nbformat": 4,
 "nbformat_minor": 5
}
