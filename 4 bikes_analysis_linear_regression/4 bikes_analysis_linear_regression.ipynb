{
 "cells": [
  {
   "cell_type": "code",
   "execution_count": 1,
   "id": "3c744e70",
   "metadata": {},
   "outputs": [],
   "source": [
    "%config Completer.use_jedi = False\n",
    "import pandas as pd"
   ]
  },
  {
   "cell_type": "code",
   "execution_count": 2,
   "id": "c6aa69aa",
   "metadata": {},
   "outputs": [],
   "source": [
    "df_bikes=pd.read_csv(r'D:\\ML\\4 bikes_analysis_linear_regression\\bikes.csv')"
   ]
  },
  {
   "cell_type": "code",
   "execution_count": 3,
   "id": "a097b5ac",
   "metadata": {},
   "outputs": [
    {
     "data": {
      "text/html": [
       "<div>\n",
       "<style scoped>\n",
       "    .dataframe tbody tr th:only-of-type {\n",
       "        vertical-align: middle;\n",
       "    }\n",
       "\n",
       "    .dataframe tbody tr th {\n",
       "        vertical-align: top;\n",
       "    }\n",
       "\n",
       "    .dataframe thead th {\n",
       "        text-align: right;\n",
       "    }\n",
       "</style>\n",
       "<table border=\"1\" class=\"dataframe\">\n",
       "  <thead>\n",
       "    <tr style=\"text-align: right;\">\n",
       "      <th></th>\n",
       "      <th>date</th>\n",
       "      <th>temperature</th>\n",
       "      <th>humidity</th>\n",
       "      <th>windspeed</th>\n",
       "      <th>count</th>\n",
       "    </tr>\n",
       "  </thead>\n",
       "  <tbody>\n",
       "    <tr>\n",
       "      <th>0</th>\n",
       "      <td>2011-01-03</td>\n",
       "      <td>2.716070</td>\n",
       "      <td>45.715346</td>\n",
       "      <td>21.414957</td>\n",
       "      <td>120.0</td>\n",
       "    </tr>\n",
       "    <tr>\n",
       "      <th>1</th>\n",
       "      <td>2011-01-04</td>\n",
       "      <td>2.896673</td>\n",
       "      <td>54.267219</td>\n",
       "      <td>15.136882</td>\n",
       "      <td>108.0</td>\n",
       "    </tr>\n",
       "    <tr>\n",
       "      <th>2</th>\n",
       "      <td>2011-01-05</td>\n",
       "      <td>4.235654</td>\n",
       "      <td>45.697702</td>\n",
       "      <td>17.034578</td>\n",
       "      <td>82.0</td>\n",
       "    </tr>\n",
       "    <tr>\n",
       "      <th>3</th>\n",
       "      <td>2011-01-06</td>\n",
       "      <td>3.112643</td>\n",
       "      <td>50.237349</td>\n",
       "      <td>10.091568</td>\n",
       "      <td>88.0</td>\n",
       "    </tr>\n",
       "    <tr>\n",
       "      <th>4</th>\n",
       "      <td>2011-01-07</td>\n",
       "      <td>2.723918</td>\n",
       "      <td>49.144928</td>\n",
       "      <td>15.738204</td>\n",
       "      <td>148.0</td>\n",
       "    </tr>\n",
       "  </tbody>\n",
       "</table>\n",
       "</div>"
      ],
      "text/plain": [
       "         date  temperature   humidity  windspeed  count\n",
       "0  2011-01-03     2.716070  45.715346  21.414957  120.0\n",
       "1  2011-01-04     2.896673  54.267219  15.136882  108.0\n",
       "2  2011-01-05     4.235654  45.697702  17.034578   82.0\n",
       "3  2011-01-06     3.112643  50.237349  10.091568   88.0\n",
       "4  2011-01-07     2.723918  49.144928  15.738204  148.0"
      ]
     },
     "execution_count": 3,
     "metadata": {},
     "output_type": "execute_result"
    }
   ],
   "source": [
    "df_bikes.head()"
   ]
  },
  {
   "cell_type": "code",
   "execution_count": 4,
   "id": "1a02f85b",
   "metadata": {},
   "outputs": [
    {
     "data": {
      "text/plain": [
       "date           0\n",
       "temperature    0\n",
       "humidity       0\n",
       "windspeed      0\n",
       "count          0\n",
       "dtype: int64"
      ]
     },
     "execution_count": 4,
     "metadata": {},
     "output_type": "execute_result"
    }
   ],
   "source": [
    "df_bikes.isnull().sum()"
   ]
  },
  {
   "cell_type": "code",
   "execution_count": 5,
   "id": "cce8368a",
   "metadata": {},
   "outputs": [],
   "source": [
    "import seaborn as sns"
   ]
  },
  {
   "cell_type": "code",
   "execution_count": 6,
   "id": "6534e754",
   "metadata": {},
   "outputs": [
    {
     "data": {
      "text/plain": [
       "<AxesSubplot:>"
      ]
     },
     "execution_count": 6,
     "metadata": {},
     "output_type": "execute_result"
    },
    {
     "data": {
      "image/png": "[encoded data removed]",
      "text/plain": [
       "<Figure size 432x288 with 2 Axes>"
      ]
     },
     "metadata": {
      "needs_background": "light"
     },
     "output_type": "display_data"
    }
   ],
   "source": [
    "sns.heatmap(df_bikes.isnull(),annot=True)"
   ]
  },
  {
   "cell_type": "code",
   "execution_count": 7,
   "id": "5b3c563e",
   "metadata": {},
   "outputs": [
    {
     "data": {
      "text/html": [
       "<div>\n",
       "<style scoped>\n",
       "    .dataframe tbody tr th:only-of-type {\n",
       "        vertical-align: middle;\n",
       "    }\n",
       "\n",
       "    .dataframe tbody tr th {\n",
       "        vertical-align: top;\n",
       "    }\n",
       "\n",
       "    .dataframe thead th {\n",
       "        text-align: right;\n",
       "    }\n",
       "</style>\n",
       "<table border=\"1\" class=\"dataframe\">\n",
       "  <thead>\n",
       "    <tr style=\"text-align: right;\">\n",
       "      <th></th>\n",
       "      <th>date</th>\n",
       "      <th>temperature</th>\n",
       "      <th>humidity</th>\n",
       "      <th>windspeed</th>\n",
       "      <th>count</th>\n",
       "    </tr>\n",
       "  </thead>\n",
       "  <tbody>\n",
       "    <tr>\n",
       "      <th>0</th>\n",
       "      <td>2011-01-03</td>\n",
       "      <td>2.716070</td>\n",
       "      <td>45.715346</td>\n",
       "      <td>21.414957</td>\n",
       "      <td>120.0</td>\n",
       "    </tr>\n",
       "    <tr>\n",
       "      <th>1</th>\n",
       "      <td>2011-01-04</td>\n",
       "      <td>2.896673</td>\n",
       "      <td>54.267219</td>\n",
       "      <td>15.136882</td>\n",
       "      <td>108.0</td>\n",
       "    </tr>\n",
       "    <tr>\n",
       "      <th>2</th>\n",
       "      <td>2011-01-05</td>\n",
       "      <td>4.235654</td>\n",
       "      <td>45.697702</td>\n",
       "      <td>17.034578</td>\n",
       "      <td>82.0</td>\n",
       "    </tr>\n",
       "    <tr>\n",
       "      <th>3</th>\n",
       "      <td>2011-01-06</td>\n",
       "      <td>3.112643</td>\n",
       "      <td>50.237349</td>\n",
       "      <td>10.091568</td>\n",
       "      <td>88.0</td>\n",
       "    </tr>\n",
       "    <tr>\n",
       "      <th>4</th>\n",
       "      <td>2011-01-07</td>\n",
       "      <td>2.723918</td>\n",
       "      <td>49.144928</td>\n",
       "      <td>15.738204</td>\n",
       "      <td>148.0</td>\n",
       "    </tr>\n",
       "  </tbody>\n",
       "</table>\n",
       "</div>"
      ],
      "text/plain": [
       "         date  temperature   humidity  windspeed  count\n",
       "0  2011-01-03     2.716070  45.715346  21.414957  120.0\n",
       "1  2011-01-04     2.896673  54.267219  15.136882  108.0\n",
       "2  2011-01-05     4.235654  45.697702  17.034578   82.0\n",
       "3  2011-01-06     3.112643  50.237349  10.091568   88.0\n",
       "4  2011-01-07     2.723918  49.144928  15.738204  148.0"
      ]
     },
     "execution_count": 7,
     "metadata": {},
     "output_type": "execute_result"
    }
   ],
   "source": [
    "df_bikes.head()"
   ]
  },
  {
   "cell_type": "code",
   "execution_count": 8,
   "id": "287020c9",
   "metadata": {},
   "outputs": [],
   "source": [
    "df_bikes.date=pd.to_datetime(df_bikes.date)"
   ]
  },
  {
   "cell_type": "code",
   "execution_count": 9,
   "id": "37ed8cf4",
   "metadata": {},
   "outputs": [],
   "source": [
    "df_bikes['year']=df_bikes['date'].dt.year\n",
    "df_bikes['month']=df_bikes['date'].dt.month_name()\n",
    "df_bikes['day']=df_bikes['date'].dt.day_name()\n",
    "df_bikes=df_bikes.drop(['date'],axis=1)"
   ]
  },
  {
   "cell_type": "markdown",
   "id": "f319c679",
   "metadata": {},
   "source": [
    "### lets make the barplot for average count during weekend and weekdays"
   ]
  },
  {
   "cell_type": "code",
   "execution_count": 10,
   "id": "855150b2",
   "metadata": {},
   "outputs": [],
   "source": [
    "import numpy as np"
   ]
  },
  {
   "cell_type": "code",
   "execution_count": 11,
   "id": "1537821e",
   "metadata": {},
   "outputs": [],
   "source": [
    "df_bikes['type_of_day']=np.where((df_bikes['day']=='Saturday') | (df_bikes['day']=='Sunday'),'Weekend','Weekday')"
   ]
  },
  {
   "cell_type": "code",
   "execution_count": 12,
   "id": "c149993a",
   "metadata": {},
   "outputs": [
    {
     "data": {
      "text/plain": [
       "0      Weekday\n",
       "1      Weekday\n",
       "2      Weekday\n",
       "3      Weekday\n",
       "4      Weekday\n",
       "        ...   \n",
       "186    Weekday\n",
       "187    Weekend\n",
       "188    Weekend\n",
       "189    Weekday\n",
       "190    Weekday\n",
       "Name: type_of_day, Length: 191, dtype: object"
      ]
     },
     "execution_count": 12,
     "metadata": {},
     "output_type": "execute_result"
    }
   ],
   "source": [
    "df_bikes['type_of_day']"
   ]
  },
  {
   "cell_type": "code",
   "execution_count": 13,
   "id": "efd6b2a2",
   "metadata": {},
   "outputs": [
    {
     "data": {
      "text/plain": [
       "<AxesSubplot:xlabel='type_of_day', ylabel='count'>"
      ]
     },
     "execution_count": 13,
     "metadata": {},
     "output_type": "execute_result"
    },
    {
     "data": {
      "image/png": "[encoded data removed]",
      "text/plain": [
       "<Figure size 432x288 with 1 Axes>"
      ]
     },
     "metadata": {
      "needs_background": "light"
     },
     "output_type": "display_data"
    }
   ],
   "source": [
    "sns.barplot(x='type_of_day',y='count',data=df_bikes)"
   ]
  },
  {
   "cell_type": "code",
   "execution_count": 14,
   "id": "c2db9316",
   "metadata": {},
   "outputs": [
    {
     "data": {
      "text/plain": [
       "<AxesSubplot:xlabel='day', ylabel='count'>"
      ]
     },
     "execution_count": 14,
     "metadata": {},
     "output_type": "execute_result"
    },
    {
     "data": {
      "image/png": "[encoded data removed]",
      "text/plain": [
       "<Figure size 432x288 with 1 Axes>"
      ]
     },
     "metadata": {
      "needs_background": "light"
     },
     "output_type": "display_data"
    }
   ],
   "source": [
    "sns.barplot(x='day',y='count',data=df_bikes)"
   ]
  },
  {
   "cell_type": "markdown",
   "id": "47a86c7e",
   "metadata": {},
   "source": [
    "### average counts during months of an year"
   ]
  },
  {
   "cell_type": "code",
   "execution_count": 15,
   "id": "2b5d0469",
   "metadata": {},
   "outputs": [
    {
     "data": {
      "text/plain": [
       "<AxesSubplot:xlabel='month', ylabel='count'>"
      ]
     },
     "execution_count": 15,
     "metadata": {},
     "output_type": "execute_result"
    },
    {
     "data": {
      "image/png": "[encoded data removed]",
      "text/plain": [
       "<Figure size 432x288 with 1 Axes>"
      ]
     },
     "metadata": {
      "needs_background": "light"
     },
     "output_type": "display_data"
    }
   ],
   "source": [
    "sns.barplot(x=\"month\",y=\"count\",data=df_bikes)"
   ]
  },
  {
   "cell_type": "markdown",
   "id": "508a41cf",
   "metadata": {},
   "source": [
    "### using lineplot from seaborn to check how count varies with temprature"
   ]
  },
  {
   "cell_type": "code",
   "execution_count": 16,
   "id": "d71eac1b",
   "metadata": {},
   "outputs": [
    {
     "data": {
      "text/plain": [
       "<AxesSubplot:xlabel='temperature', ylabel='count'>"
      ]
     },
     "execution_count": 16,
     "metadata": {},
     "output_type": "execute_result"
    },
    {
     "data": {
      "image/png": "[encoded data removed]",
      "text/plain": [
       "<Figure size 432x288 with 1 Axes>"
      ]
     },
     "metadata": {
      "needs_background": "light"
     },
     "output_type": "display_data"
    }
   ],
   "source": [
    "sns.lineplot(x=\"temperature\",y=\"count\",data=df_bikes)"
   ]
  },
  {
   "cell_type": "markdown",
   "id": "b0928b89",
   "metadata": {},
   "source": [
    "### change with humidity"
   ]
  },
  {
   "cell_type": "code",
   "execution_count": 17,
   "id": "04bde411",
   "metadata": {},
   "outputs": [
    {
     "data": {
      "text/plain": [
       "<AxesSubplot:xlabel='humidity', ylabel='count'>"
      ]
     },
     "execution_count": 17,
     "metadata": {},
     "output_type": "execute_result"
    },
    {
     "data": {
      "image/png": "[encoded data removed]",
      "text/plain": [
       "<Figure size 432x288 with 1 Axes>"
      ]
     },
     "metadata": {
      "needs_background": "light"
     },
     "output_type": "display_data"
    }
   ],
   "source": [
    "sns.lineplot(x=\"humidity\",y=\"count\",data=df_bikes)"
   ]
  },
  {
   "cell_type": "markdown",
   "id": "9656a6c4",
   "metadata": {},
   "source": [
    "### lets check the skewness of the dataset"
   ]
  },
  {
   "cell_type": "code",
   "execution_count": 18,
   "id": "08ac1610",
   "metadata": {},
   "outputs": [
    {
     "data": {
      "text/plain": [
       "temperature    0.053735\n",
       "humidity      -0.417698\n",
       "windspeed      0.341381\n",
       "count          0.153032\n",
       "year           0.000000\n",
       "dtype: float64"
      ]
     },
     "execution_count": 18,
     "metadata": {},
     "output_type": "execute_result"
    }
   ],
   "source": [
    "df_bikes.skew()"
   ]
  },
  {
   "cell_type": "markdown",
   "id": "7b2405d6",
   "metadata": {},
   "source": [
    "### change with windspeed"
   ]
  },
  {
   "cell_type": "code",
   "execution_count": 19,
   "id": "fd550726",
   "metadata": {},
   "outputs": [
    {
     "data": {
      "text/plain": [
       "<AxesSubplot:xlabel='windspeed', ylabel='count'>"
      ]
     },
     "execution_count": 19,
     "metadata": {},
     "output_type": "execute_result"
    },
    {
     "data": {
      "image/png": "[encoded data removed]",
      "text/plain": [
       "<Figure size 432x288 with 1 Axes>"
      ]
     },
     "metadata": {
      "needs_background": "light"
     },
     "output_type": "display_data"
    }
   ],
   "source": [
    "sns.lineplot(x=\"windspeed\",y=\"count\",data=df_bikes)"
   ]
  },
  {
   "cell_type": "code",
   "execution_count": 20,
   "id": "b05241cd",
   "metadata": {},
   "outputs": [
    {
     "data": {
      "text/html": [
       "<div>\n",
       "<style scoped>\n",
       "    .dataframe tbody tr th:only-of-type {\n",
       "        vertical-align: middle;\n",
       "    }\n",
       "\n",
       "    .dataframe tbody tr th {\n",
       "        vertical-align: top;\n",
       "    }\n",
       "\n",
       "    .dataframe thead th {\n",
       "        text-align: right;\n",
       "    }\n",
       "</style>\n",
       "<table border=\"1\" class=\"dataframe\">\n",
       "  <thead>\n",
       "    <tr style=\"text-align: right;\">\n",
       "      <th></th>\n",
       "      <th>temperature</th>\n",
       "      <th>humidity</th>\n",
       "      <th>windspeed</th>\n",
       "      <th>count</th>\n",
       "      <th>year</th>\n",
       "      <th>month</th>\n",
       "      <th>day</th>\n",
       "      <th>type_of_day</th>\n",
       "    </tr>\n",
       "  </thead>\n",
       "  <tbody>\n",
       "    <tr>\n",
       "      <th>0</th>\n",
       "      <td>2.716070</td>\n",
       "      <td>45.715346</td>\n",
       "      <td>21.414957</td>\n",
       "      <td>120.000000</td>\n",
       "      <td>2011</td>\n",
       "      <td>January</td>\n",
       "      <td>Monday</td>\n",
       "      <td>Weekday</td>\n",
       "    </tr>\n",
       "    <tr>\n",
       "      <th>1</th>\n",
       "      <td>2.896673</td>\n",
       "      <td>54.267219</td>\n",
       "      <td>15.136882</td>\n",
       "      <td>108.000000</td>\n",
       "      <td>2011</td>\n",
       "      <td>January</td>\n",
       "      <td>Tuesday</td>\n",
       "      <td>Weekday</td>\n",
       "    </tr>\n",
       "    <tr>\n",
       "      <th>2</th>\n",
       "      <td>4.235654</td>\n",
       "      <td>45.697702</td>\n",
       "      <td>17.034578</td>\n",
       "      <td>82.000000</td>\n",
       "      <td>2011</td>\n",
       "      <td>January</td>\n",
       "      <td>Wednesday</td>\n",
       "      <td>Weekday</td>\n",
       "    </tr>\n",
       "    <tr>\n",
       "      <th>3</th>\n",
       "      <td>3.112643</td>\n",
       "      <td>50.237349</td>\n",
       "      <td>10.091568</td>\n",
       "      <td>88.000000</td>\n",
       "      <td>2011</td>\n",
       "      <td>January</td>\n",
       "      <td>Thursday</td>\n",
       "      <td>Weekday</td>\n",
       "    </tr>\n",
       "    <tr>\n",
       "      <th>4</th>\n",
       "      <td>2.723918</td>\n",
       "      <td>49.144928</td>\n",
       "      <td>15.738204</td>\n",
       "      <td>148.000000</td>\n",
       "      <td>2011</td>\n",
       "      <td>January</td>\n",
       "      <td>Friday</td>\n",
       "      <td>Weekday</td>\n",
       "    </tr>\n",
       "    <tr>\n",
       "      <th>...</th>\n",
       "      <td>...</td>\n",
       "      <td>...</td>\n",
       "      <td>...</td>\n",
       "      <td>...</td>\n",
       "      <td>...</td>\n",
       "      <td>...</td>\n",
       "      <td>...</td>\n",
       "      <td>...</td>\n",
       "    </tr>\n",
       "    <tr>\n",
       "      <th>186</th>\n",
       "      <td>28.187490</td>\n",
       "      <td>63.618656</td>\n",
       "      <td>19.761499</td>\n",
       "      <td>692.000000</td>\n",
       "      <td>2011</td>\n",
       "      <td>July</td>\n",
       "      <td>Friday</td>\n",
       "      <td>Weekday</td>\n",
       "    </tr>\n",
       "    <tr>\n",
       "      <th>187</th>\n",
       "      <td>29.070524</td>\n",
       "      <td>61.346450</td>\n",
       "      <td>21.121738</td>\n",
       "      <td>702.333333</td>\n",
       "      <td>2011</td>\n",
       "      <td>July</td>\n",
       "      <td>Saturday</td>\n",
       "      <td>Weekend</td>\n",
       "    </tr>\n",
       "    <tr>\n",
       "      <th>188</th>\n",
       "      <td>29.953558</td>\n",
       "      <td>59.074244</td>\n",
       "      <td>22.481976</td>\n",
       "      <td>712.666667</td>\n",
       "      <td>2011</td>\n",
       "      <td>July</td>\n",
       "      <td>Sunday</td>\n",
       "      <td>Weekend</td>\n",
       "    </tr>\n",
       "    <tr>\n",
       "      <th>189</th>\n",
       "      <td>30.836592</td>\n",
       "      <td>56.802038</td>\n",
       "      <td>23.842215</td>\n",
       "      <td>723.000000</td>\n",
       "      <td>2011</td>\n",
       "      <td>July</td>\n",
       "      <td>Monday</td>\n",
       "      <td>Weekday</td>\n",
       "    </tr>\n",
       "    <tr>\n",
       "      <th>190</th>\n",
       "      <td>32.409522</td>\n",
       "      <td>52.521355</td>\n",
       "      <td>17.987135</td>\n",
       "      <td>662.000000</td>\n",
       "      <td>2011</td>\n",
       "      <td>July</td>\n",
       "      <td>Tuesday</td>\n",
       "      <td>Weekday</td>\n",
       "    </tr>\n",
       "  </tbody>\n",
       "</table>\n",
       "<p>191 rows × 8 columns</p>\n",
       "</div>"
      ],
      "text/plain": [
       "     temperature   humidity  windspeed       count  year    month        day  \\\n",
       "0       2.716070  45.715346  21.414957  120.000000  2011  January     Monday   \n",
       "1       2.896673  54.267219  15.136882  108.000000  2011  January    Tuesday   \n",
       "2       4.235654  45.697702  17.034578   82.000000  2011  January  Wednesday   \n",
       "3       3.112643  50.237349  10.091568   88.000000  2011  January   Thursday   \n",
       "4       2.723918  49.144928  15.738204  148.000000  2011  January     Friday   \n",
       "..           ...        ...        ...         ...   ...      ...        ...   \n",
       "186    28.187490  63.618656  19.761499  692.000000  2011     July     Friday   \n",
       "187    29.070524  61.346450  21.121738  702.333333  2011     July   Saturday   \n",
       "188    29.953558  59.074244  22.481976  712.666667  2011     July     Sunday   \n",
       "189    30.836592  56.802038  23.842215  723.000000  2011     July     Monday   \n",
       "190    32.409522  52.521355  17.987135  662.000000  2011     July    Tuesday   \n",
       "\n",
       "    type_of_day  \n",
       "0       Weekday  \n",
       "1       Weekday  \n",
       "2       Weekday  \n",
       "3       Weekday  \n",
       "4       Weekday  \n",
       "..          ...  \n",
       "186     Weekday  \n",
       "187     Weekend  \n",
       "188     Weekend  \n",
       "189     Weekday  \n",
       "190     Weekday  \n",
       "\n",
       "[191 rows x 8 columns]"
      ]
     },
     "execution_count": 20,
     "metadata": {},
     "output_type": "execute_result"
    }
   ],
   "source": [
    "df_bikes"
   ]
  },
  {
   "cell_type": "code",
   "execution_count": 21,
   "id": "4bc5000b",
   "metadata": {},
   "outputs": [],
   "source": [
    "df_x=df_bikes.drop(columns=['count','year','month','day','type_of_day'])\n",
    "y=df_bikes['count']"
   ]
  },
  {
   "cell_type": "markdown",
   "id": "f1485263",
   "metadata": {},
   "source": [
    "### scaling the imput variable"
   ]
  },
  {
   "cell_type": "code",
   "execution_count": 22,
   "id": "ceff1ee6",
   "metadata": {},
   "outputs": [],
   "source": [
    "from sklearn.preprocessing import StandardScaler\n",
    "sc = StandardScaler()\n",
    "x = sc.fit_transform(df_x)\n",
    "x=pd.DataFrame(x,columns=df_x.columns)"
   ]
  },
  {
   "cell_type": "code",
   "execution_count": 23,
   "id": "97b426c2",
   "metadata": {},
   "outputs": [
    {
     "data": {
      "text/html": [
       "<div>\n",
       "<style scoped>\n",
       "    .dataframe tbody tr th:only-of-type {\n",
       "        vertical-align: middle;\n",
       "    }\n",
       "\n",
       "    .dataframe tbody tr th {\n",
       "        vertical-align: top;\n",
       "    }\n",
       "\n",
       "    .dataframe thead th {\n",
       "        text-align: right;\n",
       "    }\n",
       "</style>\n",
       "<table border=\"1\" class=\"dataframe\">\n",
       "  <thead>\n",
       "    <tr style=\"text-align: right;\">\n",
       "      <th></th>\n",
       "      <th>temperature</th>\n",
       "      <th>humidity</th>\n",
       "      <th>windspeed</th>\n",
       "    </tr>\n",
       "  </thead>\n",
       "  <tbody>\n",
       "    <tr>\n",
       "      <th>0</th>\n",
       "      <td>-1.279380</td>\n",
       "      <td>-1.222633</td>\n",
       "      <td>0.557836</td>\n",
       "    </tr>\n",
       "    <tr>\n",
       "      <th>1</th>\n",
       "      <td>-1.261047</td>\n",
       "      <td>-0.150672</td>\n",
       "      <td>-0.688757</td>\n",
       "    </tr>\n",
       "    <tr>\n",
       "      <th>2</th>\n",
       "      <td>-1.125121</td>\n",
       "      <td>-1.224845</td>\n",
       "      <td>-0.311945</td>\n",
       "    </tr>\n",
       "    <tr>\n",
       "      <th>3</th>\n",
       "      <td>-1.239123</td>\n",
       "      <td>-0.655808</td>\n",
       "      <td>-1.690569</td>\n",
       "    </tr>\n",
       "    <tr>\n",
       "      <th>4</th>\n",
       "      <td>-1.278584</td>\n",
       "      <td>-0.792741</td>\n",
       "      <td>-0.569357</td>\n",
       "    </tr>\n",
       "    <tr>\n",
       "      <th>...</th>\n",
       "      <td>...</td>\n",
       "      <td>...</td>\n",
       "      <td>...</td>\n",
       "    </tr>\n",
       "    <tr>\n",
       "      <th>186</th>\n",
       "      <td>1.306332</td>\n",
       "      <td>1.021514</td>\n",
       "      <td>0.229520</td>\n",
       "    </tr>\n",
       "    <tr>\n",
       "      <th>187</th>\n",
       "      <td>1.395972</td>\n",
       "      <td>0.736697</td>\n",
       "      <td>0.499613</td>\n",
       "    </tr>\n",
       "    <tr>\n",
       "      <th>188</th>\n",
       "      <td>1.485613</td>\n",
       "      <td>0.451880</td>\n",
       "      <td>0.769706</td>\n",
       "    </tr>\n",
       "    <tr>\n",
       "      <th>189</th>\n",
       "      <td>1.575253</td>\n",
       "      <td>0.167063</td>\n",
       "      <td>1.039799</td>\n",
       "    </tr>\n",
       "    <tr>\n",
       "      <th>190</th>\n",
       "      <td>1.734928</td>\n",
       "      <td>-0.369512</td>\n",
       "      <td>-0.122802</td>\n",
       "    </tr>\n",
       "  </tbody>\n",
       "</table>\n",
       "<p>191 rows × 3 columns</p>\n",
       "</div>"
      ],
      "text/plain": [
       "     temperature  humidity  windspeed\n",
       "0      -1.279380 -1.222633   0.557836\n",
       "1      -1.261047 -0.150672  -0.688757\n",
       "2      -1.125121 -1.224845  -0.311945\n",
       "3      -1.239123 -0.655808  -1.690569\n",
       "4      -1.278584 -0.792741  -0.569357\n",
       "..           ...       ...        ...\n",
       "186     1.306332  1.021514   0.229520\n",
       "187     1.395972  0.736697   0.499613\n",
       "188     1.485613  0.451880   0.769706\n",
       "189     1.575253  0.167063   1.039799\n",
       "190     1.734928 -0.369512  -0.122802\n",
       "\n",
       "[191 rows x 3 columns]"
      ]
     },
     "execution_count": 23,
     "metadata": {},
     "output_type": "execute_result"
    }
   ],
   "source": [
    "x"
   ]
  },
  {
   "cell_type": "code",
   "execution_count": 24,
   "id": "8992d17a",
   "metadata": {},
   "outputs": [
    {
     "data": {
      "text/plain": [
       "temperature    0.053735\n",
       "humidity      -0.417698\n",
       "windspeed      0.341381\n",
       "dtype: float64"
      ]
     },
     "execution_count": 24,
     "metadata": {},
     "output_type": "execute_result"
    }
   ],
   "source": [
    "x.skew()"
   ]
  },
  {
   "cell_type": "code",
   "execution_count": 25,
   "id": "080715d7",
   "metadata": {},
   "outputs": [],
   "source": [
    "from sklearn.model_selection import train_test_split,cross_val_score\n",
    "from sklearn.metrics import median_absolute_error,mean_squared_error,r2_score\n",
    "from sklearn import linear_model"
   ]
  },
  {
   "cell_type": "code",
   "execution_count": 26,
   "id": "6f65482d",
   "metadata": {},
   "outputs": [
    {
     "name": "stdout",
     "output_type": "stream",
     "text": [
      "r_state corresponding to  <function r2_score at 0x000000001ACE0280>  is  0.8432942289256724\n",
      "r_state corresponding to  <function r2_score at 0x000000001ACE0280>  is  0.8070358686228429\n",
      "r_state corresponding to  <function r2_score at 0x000000001ACE0280>  is  0.7842161037383237\n",
      "r_state corresponding to  <function r2_score at 0x000000001ACE0280>  is  0.8561235096423362\n",
      "r_state corresponding to  <function r2_score at 0x000000001ACE0280>  is  0.8220943910877585\n",
      "r_state corresponding to  <function r2_score at 0x000000001ACE0280>  is  0.8091937006132762\n",
      "r_state corresponding to  <function r2_score at 0x000000001ACE0280>  is  0.8311527364686458\n",
      "r_state corresponding to  <function r2_score at 0x000000001ACE0280>  is  0.8499680049830113\n",
      "r_state corresponding to  <function r2_score at 0x000000001ACE0280>  is  0.8844080169977218\n",
      "r_state corresponding to  <function r2_score at 0x000000001ACE0280>  is  0.7772607696333791\n",
      "r_state corresponding to  <function r2_score at 0x000000001ACE0280>  is  0.8479423119654566\n",
      "r_state corresponding to  <function r2_score at 0x000000001ACE0280>  is  0.8571052396496549\n",
      "r_state corresponding to  <function r2_score at 0x000000001ACE0280>  is  0.8602915347971105\n",
      "r_state corresponding to  <function r2_score at 0x000000001ACE0280>  is  0.7417387797288817\n",
      "r_state corresponding to  <function r2_score at 0x000000001ACE0280>  is  0.8547014023877113\n",
      "r_state corresponding to  <function r2_score at 0x000000001ACE0280>  is  0.810658226340471\n",
      "r_state corresponding to  <function r2_score at 0x000000001ACE0280>  is  0.8113479191108767\n",
      "r_state corresponding to  <function r2_score at 0x000000001ACE0280>  is  0.7164471933996189\n",
      "r_state corresponding to  <function r2_score at 0x000000001ACE0280>  is  0.7769039720896354\n",
      "r_state corresponding to  <function r2_score at 0x000000001ACE0280>  is  0.7787656969009747\n",
      "r_state corresponding to  <function r2_score at 0x000000001ACE0280>  is  0.8671666788022219\n",
      "r_state corresponding to  <function r2_score at 0x000000001ACE0280>  is  0.8328841258898623\n",
      "r_state corresponding to  <function r2_score at 0x000000001ACE0280>  is  0.8134655708357224\n",
      "r_state corresponding to  <function r2_score at 0x000000001ACE0280>  is  0.815306819483201\n",
      "r_state corresponding to  <function r2_score at 0x000000001ACE0280>  is  0.6925378560142714\n",
      "r_state corresponding to  <function r2_score at 0x000000001ACE0280>  is  0.7632766700645857\n",
      "r_state corresponding to  <function r2_score at 0x000000001ACE0280>  is  0.7058054245036461\n",
      "r_state corresponding to  <function r2_score at 0x000000001ACE0280>  is  0.8124438381112228\n",
      "r_state corresponding to  <function r2_score at 0x000000001ACE0280>  is  0.8282652162310699\n",
      "r_state corresponding to  <function r2_score at 0x000000001ACE0280>  is  0.8254643472014649\n",
      "r_state corresponding to  <function r2_score at 0x000000001ACE0280>  is  0.7694857428314356\n",
      "r_state corresponding to  <function r2_score at 0x000000001ACE0280>  is  0.7861928831112454\n",
      "r_state corresponding to  <function r2_score at 0x000000001ACE0280>  is  0.8147360466496627\n",
      "r_state corresponding to  <function r2_score at 0x000000001ACE0280>  is  0.7919662624606052\n",
      "r_state corresponding to  <function r2_score at 0x000000001ACE0280>  is  0.7379007786703837\n",
      "r_state corresponding to  <function r2_score at 0x000000001ACE0280>  is  0.8616927980987529\n",
      "r_state corresponding to  <function r2_score at 0x000000001ACE0280>  is  0.8606451342192322\n",
      "r_state corresponding to  <function r2_score at 0x000000001ACE0280>  is  0.829536584072917\n",
      "r_state corresponding to  <function r2_score at 0x000000001ACE0280>  is  0.786492043386499\n",
      "r_state corresponding to  <function r2_score at 0x000000001ACE0280>  is  0.8176203283500179\n",
      "r_state corresponding to  <function r2_score at 0x000000001ACE0280>  is  0.6891417637335746\n",
      "r_state corresponding to  <function r2_score at 0x000000001ACE0280>  is  0.7869544783400131\n",
      "r_state corresponding to  <function r2_score at 0x000000001ACE0280>  is  0.8492602199389081\n",
      "r_state corresponding to  <function r2_score at 0x000000001ACE0280>  is  0.7282718694714743\n",
      "r_state corresponding to  <function r2_score at 0x000000001ACE0280>  is  0.8100761198378293\n",
      "r_state corresponding to  <function r2_score at 0x000000001ACE0280>  is  0.8765269461126792\n",
      "r_state corresponding to  <function r2_score at 0x000000001ACE0280>  is  0.9033489566161144\n",
      "r_state corresponding to  <function r2_score at 0x000000001ACE0280>  is  0.7347690921820329\n",
      "r_state corresponding to  <function r2_score at 0x000000001ACE0280>  is  0.9068265759551853\n",
      "r_state corresponding to  <function r2_score at 0x000000001ACE0280>  is  0.8189058135705253\n",
      "r_state corresponding to  <function r2_score at 0x000000001ACE0280>  is  0.8557531106057141\n",
      "r_state corresponding to  <function r2_score at 0x000000001ACE0280>  is  0.8599593894698235\n",
      "r_state corresponding to  <function r2_score at 0x000000001ACE0280>  is  0.8047643129572047\n",
      "r_state corresponding to  <function r2_score at 0x000000001ACE0280>  is  0.816660357692786\n",
      "r_state corresponding to  <function r2_score at 0x000000001ACE0280>  is  0.7760893784244965\n",
      "r_state corresponding to  <function r2_score at 0x000000001ACE0280>  is  0.7589842518638341\n",
      "r_state corresponding to  <function r2_score at 0x000000001ACE0280>  is  0.7425027907254969\n",
      "r_state corresponding to  <function r2_score at 0x000000001ACE0280>  is  0.8242843205602389\n",
      "r_state corresponding to  <function r2_score at 0x000000001ACE0280>  is  0.7036836968351847\n",
      "r_state corresponding to  <function r2_score at 0x000000001ACE0280>  is  0.8342454254520337\n",
      "max r2 score corresponding to  88  is  0.9068265759551853\n"
     ]
    }
   ],
   "source": [
    "max_r_score=0\n",
    "for r_state in range(40,100):\n",
    "    x_train,x_test,y_train,y_test=train_test_split(x,y,test_size=0.20,random_state=r_state)\n",
    "    regr=linear_model.LinearRegression()\n",
    "    regr.fit(x_train,y_train)\n",
    "    y_pred=regr.predict(x_test)\n",
    "    r2_scr=r2_score(y_test,y_pred)\n",
    "    print(\"r_state corresponding to \",r2_score,\" is \",r2_scr)\n",
    "    if r2_scr>max_r_score:\n",
    "        max_r_score=r2_scr\n",
    "        final_r_state=r_state\n",
    "print(\"max r2 score corresponding to \",final_r_state,\" is \",max_r_score)"
   ]
  },
  {
   "cell_type": "markdown",
   "id": "b5cd5bc8",
   "metadata": {},
   "source": [
    "### Lets make our final model"
   ]
  },
  {
   "cell_type": "code",
   "execution_count": 27,
   "id": "722aa86f",
   "metadata": {},
   "outputs": [],
   "source": [
    "x_train, x_test, y_train, y_test = train_test_split(x, y,random_state = 88,test_size=0.20)\n",
    "regr = linear_model.LinearRegression()\n",
    "regr.fit(x_train,y_train)\n",
    "y_pred = regr.predict(x_test)"
   ]
  },
  {
   "cell_type": "markdown",
   "id": "e5025df4",
   "metadata": {},
   "source": [
    "### Lets find the rmse and r2_score using sklearn.metrics "
   ]
  },
  {
   "cell_type": "code",
   "execution_count": 28,
   "id": "0f3ae64b",
   "metadata": {},
   "outputs": [
    {
     "name": "stdout",
     "output_type": "stream",
     "text": [
      "RMSE is:  95.32465795102235\n",
      "r2_score is:  0.9068265759551853\n",
      "MSE is:  9086.790413479408\n"
     ]
    }
   ],
   "source": [
    "print(\"RMSE is: \",np.sqrt(mean_squared_error(y_test,y_pred)))\n",
    "print(\"r2_score is: \",r2_score(y_test,y_pred) )\n",
    "print(\"MSE is: \",mean_squared_error(y_test,y_pred))"
   ]
  },
  {
   "cell_type": "code",
   "execution_count": 29,
   "id": "c274e86c",
   "metadata": {},
   "outputs": [],
   "source": [
    "import pickle\n",
    "pickle.dump(regr,open('bikes_linear_reg.pkl','wb'))"
   ]
  },
  {
   "cell_type": "markdown",
   "id": "9a4d3d55",
   "metadata": {},
   "source": [
    "### lets use cross val score function to check above is overfitting or not"
   ]
  },
  {
   "cell_type": "code",
   "execution_count": 30,
   "id": "54c60d41",
   "metadata": {},
   "outputs": [
    {
     "data": {
      "text/plain": [
       "<function sklearn.model_selection._validation.cross_val_score(estimator, X, y=None, *, groups=None, scoring=None, cv=None, n_jobs=None, verbose=0, fit_params=None, pre_dispatch='2*n_jobs', error_score=nan)>"
      ]
     },
     "execution_count": 30,
     "metadata": {},
     "output_type": "execute_result"
    }
   ],
   "source": [
    "cross_val=cross_val_score(linear_model.LinearRegression(),x,y,cv=5,scoring=\"r2\")\n",
    "cross_val_score"
   ]
  },
  {
   "cell_type": "code",
   "execution_count": null,
   "id": "756ee727",
   "metadata": {},
   "outputs": [],
   "source": []
  },
  {
   "cell_type": "code",
   "execution_count": null,
   "id": "abe40f7b",
   "metadata": {},
   "outputs": [],
   "source": []
  }
 ],
 "metadata": {
  "kernelspec": {
   "display_name": "Python 3",
   "language": "python",
   "name": "python3"
  },
  "language_info": {
   "codemirror_mode": {
    "name": "ipython",
    "version": 3
   },
   "file_extension": ".py",
   "mimetype": "text/x-python",
   "name": "python",
   "nbconvert_exporter": "python",
   "pygments_lexer": "ipython3",
   "version": "3.8.8"
  }
 },
 "nbformat": 4,
 "nbformat_minor": 5
}
